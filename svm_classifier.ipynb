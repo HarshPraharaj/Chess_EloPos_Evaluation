{
 "cells": [
  {
   "cell_type": "markdown",
   "metadata": {},
   "source": [
    "# Task 3 - Chess ML Project - Kevin Kimmel\n",
    "## Produce a ML model capable of predicting chess games better than elo"
   ]
  },
  {
   "cell_type": "markdown",
   "metadata": {},
   "source": [
    "### Import packages"
   ]
  },
  {
   "cell_type": "code",
   "execution_count": null,
   "metadata": {
    "application/vnd.databricks.v1+cell": {
     "cellMetadata": {
      "byteLimit": 2048000,
      "rowLimit": 10000
     },
     "inputWidgets": {},
     "nuid": "71137e82-ef0d-4404-a068-643864364581",
     "showTitle": false,
     "title": ""
    }
   },
   "outputs": [
    {
     "data": {
      "text/html": [
       "<style scoped>\n",
       "  .ansiout {\n",
       "    display: block;\n",
       "    unicode-bidi: embed;\n",
       "    white-space: pre-wrap;\n",
       "    word-wrap: break-word;\n",
       "    word-break: break-all;\n",
       "    font-family: \"Source Code Pro\", \"Menlo\", monospace;;\n",
       "    font-size: 13px;\n",
       "    color: #555;\n",
       "    margin-left: 4px;\n",
       "    line-height: 19px;\n",
       "  }\n",
       "</style>\n",
       "<div class=\"ansiout\"></div>"
      ]
     },
     "metadata": {
      "application/vnd.databricks.v1+output": {
       "addedWidgets": {},
       "arguments": {},
       "data": "<div class=\"ansiout\"></div>",
       "datasetInfos": [],
       "metadata": {},
       "removedWidgets": [],
       "type": "html"
      }
     },
     "output_type": "display_data"
    }
   ],
   "source": [
    "from datetime import datetime\n",
    "\n",
    "import numpy as np\n",
    "\n",
    "##Pre-Processing\n",
    "from pyspark.sql import SparkSession\n",
    "from pyspark.sql.types import *\n",
    "from pyspark.sql.functions import *\n",
    "from pyspark.ml.feature import StringIndexer\n",
    "from pyspark.ml.feature import OneHotEncoder\n",
    "from pyspark.ml.feature import VectorAssembler\n",
    "\n",
    "##Models\n",
    "from pyspark.ml.regression import RandomForestRegressor\n",
    "from pyspark.ml.evaluation import RegressionEvaluator\n",
    "from pyspark.ml.classification import DecisionTreeClassifier\n",
    "from pyspark.ml.classification import LogisticRegression\n",
    "\n",
    "##Evaluation\n",
    "from pyspark.ml.evaluation import BinaryClassificationEvaluator\n",
    "from pyspark.ml.evaluation import MulticlassClassificationEvaluator\n",
    "from pyspark.ml.tuning import CrossValidator\n",
    "from pyspark.ml.tuning import ParamGridBuilder\n",
    "\n",
    "import math\n",
    "\n",
    "from pyspark.ml.classification import LinearSVC\n",
    "from pyspark.ml import Pipeline\n",
    "from pyspark.ml.feature import StandardScaler"
   ]
  },
  {
   "cell_type": "markdown",
   "metadata": {},
   "source": [
    "### Start up spark and connect to Mongo"
   ]
  },
  {
   "cell_type": "code",
   "execution_count": null,
   "metadata": {
    "application/vnd.databricks.v1+cell": {
     "cellMetadata": {
      "byteLimit": 2048000,
      "rowLimit": 10000
     },
     "inputWidgets": {},
     "nuid": "9e1978f2-e48a-4e01-bbcf-5136a1fe0ed5",
     "showTitle": false,
     "title": ""
    }
   },
   "outputs": [
    {
     "data": {
      "text/html": [
       "<style scoped>\n",
       "  .ansiout {\n",
       "    display: block;\n",
       "    unicode-bidi: embed;\n",
       "    white-space: pre-wrap;\n",
       "    word-wrap: break-word;\n",
       "    word-break: break-all;\n",
       "    font-family: \"Source Code Pro\", \"Menlo\", monospace;;\n",
       "    font-size: 13px;\n",
       "    color: #555;\n",
       "    margin-left: 4px;\n",
       "    line-height: 19px;\n",
       "  }\n",
       "</style>\n",
       "<div class=\"ansiout\"></div>"
      ]
     },
     "metadata": {
      "application/vnd.databricks.v1+output": {
       "addedWidgets": {},
       "arguments": {},
       "data": "<div class=\"ansiout\"></div>",
       "datasetInfos": [],
       "metadata": {},
       "removedWidgets": [],
       "type": "html"
      }
     },
     "output_type": "display_data"
    }
   ],
   "source": [
    "spark = SparkSession.builder.config(\"spark.jars.packages\", \"org.mongodb.spark:mongo-spark-connector_2.12:3.0.2\")\\\n",
    "                            .config(\"spark.network.timeout\", \"36000000s\")\\\n",
    "                            .config(\"spark.executor.heartbeatInterval\", \"3600s\")\\\n",
    "                            .getOrCreate()"
   ]
  },
  {
   "cell_type": "code",
   "execution_count": null,
   "metadata": {
    "application/vnd.databricks.v1+cell": {
     "cellMetadata": {
      "byteLimit": 2048000,
      "rowLimit": 10000
     },
     "inputWidgets": {},
     "nuid": "3d8e3b43-0231-4ea9-b246-d807d471eb13",
     "showTitle": false,
     "title": ""
    }
   },
   "outputs": [
    {
     "data": {
      "text/html": [
       "<style scoped>\n",
       "  .ansiout {\n",
       "    display: block;\n",
       "    unicode-bidi: embed;\n",
       "    white-space: pre-wrap;\n",
       "    word-wrap: break-word;\n",
       "    word-break: break-all;\n",
       "    font-family: \"Source Code Pro\", \"Menlo\", monospace;;\n",
       "    font-size: 13px;\n",
       "    color: #555;\n",
       "    margin-left: 4px;\n",
       "    line-height: 19px;\n",
       "  }\n",
       "</style>\n",
       "<div class=\"ansiout\"></div>"
      ]
     },
     "metadata": {
      "application/vnd.databricks.v1+output": {
       "addedWidgets": {},
       "arguments": {},
       "data": "<div class=\"ansiout\"></div>",
       "datasetInfos": [],
       "metadata": {},
       "removedWidgets": [],
       "type": "html"
      }
     },
     "output_type": "display_data"
    }
   ],
   "source": [
    "database = 'MongoDBAtlas'\n",
    "collection_pos = 'pos_evals'\n",
    "collection_elo = 'elo_eval'\n",
    "user_name = 'Kevin'\n",
    "password = 'chess1'\n",
    "address = 'chesscluster.ar0uw.mongodb.net'\n",
    "connection_string_pos = f\"mongodb+srv://{user_name}:{password}@{address}/{database}.{collection_pos}\"\n",
    "connection_string_elo = f\"mongodb+srv://{user_name}:{password}@{address}/{database}.{collection_elo}\""
   ]
  },
  {
   "cell_type": "code",
   "execution_count": null,
   "metadata": {
    "application/vnd.databricks.v1+cell": {
     "cellMetadata": {
      "byteLimit": 2048000,
      "rowLimit": 10000
     },
     "inputWidgets": {},
     "nuid": "42a35500-60dc-4435-a153-4cffcd61a430",
     "showTitle": false,
     "title": ""
    }
   },
   "outputs": [
    {
     "data": {
      "text/html": [
       "<style scoped>\n",
       "  .ansiout {\n",
       "    display: block;\n",
       "    unicode-bidi: embed;\n",
       "    white-space: pre-wrap;\n",
       "    word-wrap: break-word;\n",
       "    word-break: break-all;\n",
       "    font-family: \"Source Code Pro\", \"Menlo\", monospace;;\n",
       "    font-size: 13px;\n",
       "    color: #555;\n",
       "    margin-left: 4px;\n",
       "    line-height: 19px;\n",
       "  }\n",
       "</style>\n",
       "<div class=\"ansiout\"></div>"
      ]
     },
     "metadata": {
      "application/vnd.databricks.v1+output": {
       "addedWidgets": {},
       "arguments": {},
       "data": "<div class=\"ansiout\"></div>",
       "datasetInfos": [
        {
         "name": "df_pos",
         "schema": {
          "fields": [
           {
            "metadata": {},
            "name": "_id",
            "nullable": true,
            "type": "string"
           },
           {
            "metadata": {},
            "name": "eval",
            "nullable": true,
            "type": "string"
           },
           {
            "metadata": {},
            "name": "notation",
            "nullable": true,
            "type": "string"
           }
          ],
          "type": "struct"
         },
         "tableIdentifier": null,
         "typeStr": "pyspark.sql.dataframe.DataFrame"
        },
        {
         "name": "df_eval",
         "schema": {
          "fields": [
           {
            "metadata": {},
            "name": "Black Elo",
            "nullable": true,
            "type": "string"
           },
           {
            "metadata": {},
            "name": "Date",
            "nullable": true,
            "type": "string"
           },
           {
            "metadata": {},
            "name": "End Time",
            "nullable": true,
            "type": "string"
           },
           {
            "metadata": {},
            "name": "Opening",
            "nullable": true,
            "type": "string"
           },
           {
            "metadata": {},
            "name": "Player",
            "nullable": true,
            "type": "string"
           },
           {
            "metadata": {},
            "name": "Result",
            "nullable": true,
            "type": "string"
           },
           {
            "metadata": {},
            "name": "Start Time",
            "nullable": true,
            "type": "string"
           },
           {
            "metadata": {},
            "name": "Time Class",
            "nullable": true,
            "type": "string"
           },
           {
            "metadata": {},
            "name": "Time Control",
            "nullable": true,
            "type": "string"
           },
           {
            "metadata": {},
            "name": "White Elo",
            "nullable": true,
            "type": "string"
           },
           {
            "metadata": {},
            "name": "_id",
            "nullable": true,
            "type": "string"
           },
           {
            "metadata": {},
            "name": "game_num",
            "nullable": true,
            "type": "string"
           }
          ],
          "type": "struct"
         },
         "tableIdentifier": null,
         "typeStr": "pyspark.sql.dataframe.DataFrame"
        }
       ],
       "metadata": {},
       "removedWidgets": [],
       "type": "html"
      }
     },
     "output_type": "display_data"
    }
   ],
   "source": [
    "df_pos = spark.read.format(\"mongo\").option(\"uri\",connection_string_pos).load()\n",
    "df_eval = spark.read.format(\"mongo\").option(\"uri\",connection_string_elo).load()"
   ]
  },
  {
   "cell_type": "markdown",
   "metadata": {},
   "source": [
    "## Data Processing and Feature Engineering"
   ]
  },
  {
   "cell_type": "code",
   "execution_count": null,
   "metadata": {
    "application/vnd.databricks.v1+cell": {
     "cellMetadata": {
      "byteLimit": 2048000,
      "rowLimit": 10000
     },
     "inputWidgets": {},
     "nuid": "b42a3e9b-0e81-4b86-9661-88466253b089",
     "showTitle": false,
     "title": ""
    }
   },
   "outputs": [
    {
     "data": {
      "text/html": [
       "<style scoped>\n",
       "  .ansiout {\n",
       "    display: block;\n",
       "    unicode-bidi: embed;\n",
       "    white-space: pre-wrap;\n",
       "    word-wrap: break-word;\n",
       "    word-break: break-all;\n",
       "    font-family: \"Source Code Pro\", \"Menlo\", monospace;;\n",
       "    font-size: 13px;\n",
       "    color: #555;\n",
       "    margin-left: 4px;\n",
       "    line-height: 19px;\n",
       "  }\n",
       "</style>\n",
       "<div class=\"ansiout\"></div>"
      ]
     },
     "metadata": {
      "application/vnd.databricks.v1+output": {
       "addedWidgets": {},
       "arguments": {},
       "data": "<div class=\"ansiout\"></div>",
       "datasetInfos": [
        {
         "name": "df_eval",
         "schema": {
          "fields": [
           {
            "metadata": {},
            "name": "Black Elo",
            "nullable": true,
            "type": "string"
           },
           {
            "metadata": {},
            "name": "Date",
            "nullable": true,
            "type": "string"
           },
           {
            "metadata": {},
            "name": "End Time",
            "nullable": true,
            "type": "string"
           },
           {
            "metadata": {},
            "name": "Opening",
            "nullable": true,
            "type": "string"
           },
           {
            "metadata": {},
            "name": "Player",
            "nullable": true,
            "type": "string"
           },
           {
            "metadata": {},
            "name": "Result",
            "nullable": true,
            "type": "string"
           },
           {
            "metadata": {},
            "name": "Start Time",
            "nullable": true,
            "type": "string"
           },
           {
            "metadata": {},
            "name": "Time Class",
            "nullable": true,
            "type": "string"
           },
           {
            "metadata": {},
            "name": "Time Control",
            "nullable": true,
            "type": "string"
           },
           {
            "metadata": {},
            "name": "White Elo",
            "nullable": true,
            "type": "string"
           },
           {
            "metadata": {},
            "name": "_id",
            "nullable": true,
            "type": "string"
           },
           {
            "metadata": {},
            "name": "game_num",
            "nullable": true,
            "type": "string"
           },
           {
            "metadata": {},
            "name": "elo_diff",
            "nullable": true,
            "type": "double"
           }
          ],
          "type": "struct"
         },
         "tableIdentifier": null,
         "typeStr": "pyspark.sql.dataframe.DataFrame"
        }
       ],
       "metadata": {},
       "removedWidgets": [],
       "type": "html"
      }
     },
     "output_type": "display_data"
    }
   ],
   "source": [
    "df_eval = df_eval.withColumn('elo_diff',df_eval['White Elo'] - df_eval['Black Elo'])"
   ]
  },
  {
   "cell_type": "code",
   "execution_count": null,
   "metadata": {
    "application/vnd.databricks.v1+cell": {
     "cellMetadata": {
      "byteLimit": 2048000,
      "rowLimit": 10000
     },
     "inputWidgets": {},
     "nuid": "39394233-f0e6-4469-82ee-c10eb0e5652b",
     "showTitle": false,
     "title": ""
    }
   },
   "outputs": [
    {
     "data": {
      "text/html": [
       "<style scoped>\n",
       "  .ansiout {\n",
       "    display: block;\n",
       "    unicode-bidi: embed;\n",
       "    white-space: pre-wrap;\n",
       "    word-wrap: break-word;\n",
       "    word-break: break-all;\n",
       "    font-family: \"Source Code Pro\", \"Menlo\", monospace;;\n",
       "    font-size: 13px;\n",
       "    color: #555;\n",
       "    margin-left: 4px;\n",
       "    line-height: 19px;\n",
       "  }\n",
       "</style>\n",
       "<div class=\"ansiout\"></div>"
      ]
     },
     "metadata": {
      "application/vnd.databricks.v1+output": {
       "addedWidgets": {},
       "arguments": {},
       "data": "<div class=\"ansiout\"></div>",
       "datasetInfos": [],
       "metadata": {},
       "removedWidgets": [],
       "type": "html"
      }
     },
     "output_type": "display_data"
    }
   ],
   "source": [
    "def calculate_fide_expected_score(x):\n",
    "    return math.erfc(-x / ((2000.0/7) * math.sqrt(2))) / 2 ## Formula that FIDE(Governing body of chess) uses to calculate expected score of a game.\n",
    "\n",
    "xScore = udf(calculate_fide_expected_score, FloatType())"
   ]
  },
  {
   "cell_type": "code",
   "execution_count": null,
   "metadata": {
    "application/vnd.databricks.v1+cell": {
     "cellMetadata": {
      "byteLimit": 2048000,
      "rowLimit": 10000
     },
     "inputWidgets": {},
     "nuid": "bd4ccdcb-abe5-445f-8b2f-60c3aefc7b86",
     "showTitle": false,
     "title": ""
    }
   },
   "outputs": [
    {
     "data": {
      "text/html": [
       "<style scoped>\n",
       "  .ansiout {\n",
       "    display: block;\n",
       "    unicode-bidi: embed;\n",
       "    white-space: pre-wrap;\n",
       "    word-wrap: break-word;\n",
       "    word-break: break-all;\n",
       "    font-family: \"Source Code Pro\", \"Menlo\", monospace;;\n",
       "    font-size: 13px;\n",
       "    color: #555;\n",
       "    margin-left: 4px;\n",
       "    line-height: 19px;\n",
       "  }\n",
       "</style>\n",
       "<div class=\"ansiout\"></div>"
      ]
     },
     "metadata": {
      "application/vnd.databricks.v1+output": {
       "addedWidgets": {},
       "arguments": {},
       "data": "<div class=\"ansiout\"></div>",
       "datasetInfos": [
        {
         "name": "df_eval",
         "schema": {
          "fields": [
           {
            "metadata": {},
            "name": "Black Elo",
            "nullable": true,
            "type": "string"
           },
           {
            "metadata": {},
            "name": "White Elo",
            "nullable": true,
            "type": "string"
           },
           {
            "metadata": {},
            "name": "Result",
            "nullable": true,
            "type": "string"
           },
           {
            "metadata": {},
            "name": "Time Class",
            "nullable": true,
            "type": "string"
           },
           {
            "metadata": {},
            "name": "Time Control",
            "nullable": true,
            "type": "string"
           },
           {
            "metadata": {},
            "name": "elo_diff",
            "nullable": true,
            "type": "double"
           },
           {
            "metadata": {},
            "name": "expected_score_fide",
            "nullable": true,
            "type": "float"
           }
          ],
          "type": "struct"
         },
         "tableIdentifier": null,
         "typeStr": "pyspark.sql.dataframe.DataFrame"
        }
       ],
       "metadata": {},
       "removedWidgets": [],
       "type": "html"
      }
     },
     "output_type": "display_data"
    }
   ],
   "source": [
    "df_eval = df_eval.select('Black Elo', 'White Elo', 'Result', 'Time Class', 'Time Control','elo_diff',xScore(\"elo_diff\").alias(\"expected_score_fide\"))"
   ]
  },
  {
   "cell_type": "code",
   "execution_count": null,
   "metadata": {
    "application/vnd.databricks.v1+cell": {
     "cellMetadata": {
      "byteLimit": 2048000,
      "rowLimit": 10000
     },
     "inputWidgets": {},
     "nuid": "2f38c17f-4518-49c3-a291-b9d7a131dba4",
     "showTitle": false,
     "title": ""
    }
   },
   "outputs": [
    {
     "data": {
      "text/html": [
       "<style scoped>\n",
       "  .ansiout {\n",
       "    display: block;\n",
       "    unicode-bidi: embed;\n",
       "    white-space: pre-wrap;\n",
       "    word-wrap: break-word;\n",
       "    word-break: break-all;\n",
       "    font-family: \"Source Code Pro\", \"Menlo\", monospace;;\n",
       "    font-size: 13px;\n",
       "    color: #555;\n",
       "    margin-left: 4px;\n",
       "    line-height: 19px;\n",
       "  }\n",
       "</style>\n",
       "<div class=\"ansiout\"></div>"
      ]
     },
     "metadata": {
      "application/vnd.databricks.v1+output": {
       "addedWidgets": {},
       "arguments": {},
       "data": "<div class=\"ansiout\"></div>",
       "datasetInfos": [],
       "metadata": {},
       "removedWidgets": [],
       "type": "html"
      }
     },
     "output_type": "display_data"
    }
   ],
   "source": [
    "def indexStringColumns(df, cols):\n",
    "    # variable newdf will be updated several times\n",
    "    newdf = df\n",
    "    \n",
    "    for c in cols:\n",
    "        # For each given colum, fits StringIndexerModel.\n",
    "        si = StringIndexer(inputCol=c, outputCol=c+\"-num\").setHandleInvalid(\"keep\")\n",
    "        sm = si.fit(newdf)\n",
    "        \n",
    "        # Creates a DataFame by putting the transformed values in the new colum with suffix \"-num\" \n",
    "        # and then drops the original columns.\n",
    "        # and drop the \"-num\" suffix. \n",
    "        newdf = sm.transform(newdf).drop(c)\n",
    "        newdf = newdf.withColumnRenamed(c+\"-num\", c)\n",
    "    return newdf\n",
    "\n",
    "def oneHotEncodeColumns(df, cols):\n",
    "    newdf = df\n",
    "    for c in cols:\n",
    "        # For each given colum, create OneHotEncoder. \n",
    "        # dropLast : Whether to drop the last category in the encoded vector (default: true)\n",
    "        ohe = OneHotEncoder(inputCol=c, outputCol=c+\"-onehot\", dropLast=False)\n",
    "        ohe_model = ohe.fit(newdf)\n",
    "        #Creates a DataFame by putting the transformed values in the new colum with suffix \"-onehot\" \n",
    "        #and then drops the original columns.\n",
    "        #and drop the \"-onehot\" suffix. \n",
    "        newdf = ohe_model.transform(newdf).drop(c)\n",
    "        newdf = newdf.withColumnRenamed(c+\"-onehot\", c)\n",
    "    return newdf"
   ]
  },
  {
   "cell_type": "code",
   "execution_count": null,
   "metadata": {
    "application/vnd.databricks.v1+cell": {
     "cellMetadata": {
      "byteLimit": 2048000,
      "rowLimit": 10000
     },
     "inputWidgets": {},
     "nuid": "bb3ace4c-a011-4722-bc0c-2e454b3f34d4",
     "showTitle": false,
     "title": ""
    }
   },
   "outputs": [
    {
     "data": {
      "text/html": [
       "<style scoped>\n",
       "  .ansiout {\n",
       "    display: block;\n",
       "    unicode-bidi: embed;\n",
       "    white-space: pre-wrap;\n",
       "    word-wrap: break-word;\n",
       "    word-break: break-all;\n",
       "    font-family: \"Source Code Pro\", \"Menlo\", monospace;;\n",
       "    font-size: 13px;\n",
       "    color: #555;\n",
       "    margin-left: 4px;\n",
       "    line-height: 19px;\n",
       "  }\n",
       "</style>\n",
       "<div class=\"ansiout\"></div>"
      ]
     },
     "metadata": {
      "application/vnd.databricks.v1+output": {
       "addedWidgets": {},
       "arguments": {},
       "data": "<div class=\"ansiout\"></div>",
       "datasetInfos": [
        {
         "name": "df_eval_sti",
         "schema": {
          "fields": [
           {
            "metadata": {},
            "name": "Black Elo",
            "nullable": true,
            "type": "string"
           },
           {
            "metadata": {},
            "name": "White Elo",
            "nullable": true,
            "type": "string"
           },
           {
            "metadata": {},
            "name": "Result",
            "nullable": true,
            "type": "string"
           },
           {
            "metadata": {},
            "name": "elo_diff",
            "nullable": true,
            "type": "double"
           },
           {
            "metadata": {},
            "name": "expected_score_fide",
            "nullable": true,
            "type": "float"
           },
           {
            "metadata": {
             "ml_attr": {
              "name": "Time Class-num",
              "type": "nominal",
              "vals": [
               "blitz",
               "bullet",
               "rapid",
               "daily",
               "__unknown"
              ]
             }
            },
            "name": "Time Class",
            "nullable": false,
            "type": "double"
           },
           {
            "metadata": {
             "ml_attr": {
              "name": "Time Control-num",
              "type": "nominal",
              "vals": [
               "180",
               "60",
               "180+1",
               "30",
               "600+2",
               "300",
               "600",
               "900+3",
               "180+2",
               "60+1",
               "900",
               "1/259200",
               "300+2",
               "10",
               "1/1209600",
               "1/172800",
               "1/86400",
               "600+5",
               "900+10",
               "900+5",
               "1/604800",
               "10+4",
               "120+1",
               "1800+5",
               "1805",
               "20+1",
               "__unknown"
              ]
             }
            },
            "name": "Time Control",
            "nullable": false,
            "type": "double"
           }
          ],
          "type": "struct"
         },
         "tableIdentifier": null,
         "typeStr": "pyspark.sql.dataframe.DataFrame"
        }
       ],
       "metadata": {},
       "removedWidgets": [],
       "type": "html"
      }
     },
     "output_type": "display_data"
    }
   ],
   "source": [
    "categorical_cols = [\"Time Class\",\"Time Control\"]\n",
    "df_eval_sti = indexStringColumns(df_eval, categorical_cols)"
   ]
  },
  {
   "cell_type": "code",
   "execution_count": null,
   "metadata": {
    "application/vnd.databricks.v1+cell": {
     "cellMetadata": {
      "byteLimit": 2048000,
      "rowLimit": 10000
     },
     "inputWidgets": {},
     "nuid": "540dde0b-2013-43be-9fe0-0b348377cd40",
     "showTitle": false,
     "title": ""
    }
   },
   "outputs": [
    {
     "data": {
      "text/html": [
       "<style scoped>\n",
       "  .ansiout {\n",
       "    display: block;\n",
       "    unicode-bidi: embed;\n",
       "    white-space: pre-wrap;\n",
       "    word-wrap: break-word;\n",
       "    word-break: break-all;\n",
       "    font-family: \"Source Code Pro\", \"Menlo\", monospace;;\n",
       "    font-size: 13px;\n",
       "    color: #555;\n",
       "    margin-left: 4px;\n",
       "    line-height: 19px;\n",
       "  }\n",
       "</style>\n",
       "<div class=\"ansiout\"></div>"
      ]
     },
     "metadata": {
      "application/vnd.databricks.v1+output": {
       "addedWidgets": {},
       "arguments": {},
       "data": "<div class=\"ansiout\"></div>",
       "datasetInfos": [
        {
         "name": "df_eval_ohe",
         "schema": {
          "fields": [
           {
            "metadata": {},
            "name": "Black Elo",
            "nullable": true,
            "type": "string"
           },
           {
            "metadata": {},
            "name": "White Elo",
            "nullable": true,
            "type": "string"
           },
           {
            "metadata": {},
            "name": "Result",
            "nullable": true,
            "type": "string"
           },
           {
            "metadata": {},
            "name": "elo_diff",
            "nullable": true,
            "type": "double"
           },
           {
            "metadata": {},
            "name": "expected_score_fide",
            "nullable": true,
            "type": "float"
           },
           {
            "metadata": {
             "ml_attr": {
              "attrs": {
               "binary": [
                {
                 "idx": 0,
                 "name": "blitz"
                },
                {
                 "idx": 1,
                 "name": "bullet"
                },
                {
                 "idx": 2,
                 "name": "rapid"
                },
                {
                 "idx": 3,
                 "name": "daily"
                },
                {
                 "idx": 4,
                 "name": "__unknown"
                }
               ]
              },
              "num_attrs": 5
             }
            },
            "name": "Time Class",
            "nullable": true,
            "type": {
             "class": "org.apache.spark.ml.linalg.VectorUDT",
             "pyClass": "pyspark.ml.linalg.VectorUDT",
             "sqlType": {
              "fields": [
               {
                "metadata": {},
                "name": "type",
                "nullable": false,
                "type": "byte"
               },
               {
                "metadata": {},
                "name": "size",
                "nullable": true,
                "type": "integer"
               },
               {
                "metadata": {},
                "name": "indices",
                "nullable": true,
                "type": {
                 "containsNull": false,
                 "elementType": "integer",
                 "type": "array"
                }
               },
               {
                "metadata": {},
                "name": "values",
                "nullable": true,
                "type": {
                 "containsNull": false,
                 "elementType": "double",
                 "type": "array"
                }
               }
              ],
              "type": "struct"
             },
             "type": "udt"
            }
           },
           {
            "metadata": {
             "ml_attr": {
              "attrs": {
               "binary": [
                {
                 "idx": 0,
                 "name": "180"
                },
                {
                 "idx": 1,
                 "name": "60"
                },
                {
                 "idx": 2,
                 "name": "180+1"
                },
                {
                 "idx": 3,
                 "name": "30"
                },
                {
                 "idx": 4,
                 "name": "600+2"
                },
                {
                 "idx": 5,
                 "name": "300"
                },
                {
                 "idx": 6,
                 "name": "600"
                },
                {
                 "idx": 7,
                 "name": "900+3"
                },
                {
                 "idx": 8,
                 "name": "180+2"
                },
                {
                 "idx": 9,
                 "name": "60+1"
                },
                {
                 "idx": 10,
                 "name": "900"
                },
                {
                 "idx": 11,
                 "name": "1/259200"
                },
                {
                 "idx": 12,
                 "name": "300+2"
                },
                {
                 "idx": 13,
                 "name": "10"
                },
                {
                 "idx": 14,
                 "name": "1/1209600"
                },
                {
                 "idx": 15,
                 "name": "1/172800"
                },
                {
                 "idx": 16,
                 "name": "1/86400"
                },
                {
                 "idx": 17,
                 "name": "600+5"
                },
                {
                 "idx": 18,
                 "name": "900+10"
                },
                {
                 "idx": 19,
                 "name": "900+5"
                },
                {
                 "idx": 20,
                 "name": "1/604800"
                },
                {
                 "idx": 21,
                 "name": "10+4"
                },
                {
                 "idx": 22,
                 "name": "120+1"
                },
                {
                 "idx": 23,
                 "name": "1800+5"
                },
                {
                 "idx": 24,
                 "name": "1805"
                },
                {
                 "idx": 25,
                 "name": "20+1"
                },
                {
                 "idx": 26,
                 "name": "__unknown"
                }
               ]
              },
              "num_attrs": 27
             }
            },
            "name": "Time Control",
            "nullable": true,
            "type": {
             "class": "org.apache.spark.ml.linalg.VectorUDT",
             "pyClass": "pyspark.ml.linalg.VectorUDT",
             "sqlType": {
              "fields": [
               {
                "metadata": {},
                "name": "type",
                "nullable": false,
                "type": "byte"
               },
               {
                "metadata": {},
                "name": "size",
                "nullable": true,
                "type": "integer"
               },
               {
                "metadata": {},
                "name": "indices",
                "nullable": true,
                "type": {
                 "containsNull": false,
                 "elementType": "integer",
                 "type": "array"
                }
               },
               {
                "metadata": {},
                "name": "values",
                "nullable": true,
                "type": {
                 "containsNull": false,
                 "elementType": "double",
                 "type": "array"
                }
               }
              ],
              "type": "struct"
             },
             "type": "udt"
            }
           }
          ],
          "type": "struct"
         },
         "tableIdentifier": null,
         "typeStr": "pyspark.sql.dataframe.DataFrame"
        }
       ],
       "metadata": {},
       "removedWidgets": [],
       "type": "html"
      }
     },
     "output_type": "display_data"
    }
   ],
   "source": [
    "# create the one hot encoded columns\n",
    "df_eval_ohe = oneHotEncodeColumns(df_eval_sti, categorical_cols)"
   ]
  },
  {
   "cell_type": "code",
   "execution_count": null,
   "metadata": {
    "application/vnd.databricks.v1+cell": {
     "cellMetadata": {
      "byteLimit": 2048000,
      "rowLimit": 10000
     },
     "inputWidgets": {},
     "nuid": "9971facc-a268-4f9f-b5b2-f45412e6575c",
     "showTitle": false,
     "title": ""
    }
   },
   "outputs": [
    {
     "data": {
      "text/html": [
       "<style scoped>\n",
       "  .ansiout {\n",
       "    display: block;\n",
       "    unicode-bidi: embed;\n",
       "    white-space: pre-wrap;\n",
       "    word-wrap: break-word;\n",
       "    word-break: break-all;\n",
       "    font-family: \"Source Code Pro\", \"Menlo\", monospace;;\n",
       "    font-size: 13px;\n",
       "    color: #555;\n",
       "    margin-left: 4px;\n",
       "    line-height: 19px;\n",
       "  }\n",
       "</style>\n",
       "<div class=\"ansiout\"></div>"
      ]
     },
     "metadata": {
      "application/vnd.databricks.v1+output": {
       "addedWidgets": {},
       "arguments": {},
       "data": "<div class=\"ansiout\"></div>",
       "datasetInfos": [],
       "metadata": {},
       "removedWidgets": [],
       "type": "html"
      }
     },
     "output_type": "display_data"
    }
   ],
   "source": [
    "# convert the result string to a number for easier encoding\n",
    "\n",
    "def convert_res_to_binary(x):\n",
    "    if x == '1-0': # if black won\n",
    "        return 1\n",
    "    elif x == '0-1': # if white won\n",
    "        return 0\n",
    "    elif '5' in x: # if it was a draw\n",
    "        return 2\n",
    "\n",
    "result_conv = udf(convert_res_to_binary, IntegerType())"
   ]
  },
  {
   "cell_type": "code",
   "execution_count": null,
   "metadata": {
    "application/vnd.databricks.v1+cell": {
     "cellMetadata": {
      "byteLimit": 2048000,
      "rowLimit": 10000
     },
     "inputWidgets": {},
     "nuid": "245c224a-5c2b-4ccd-862f-746883a6b89a",
     "showTitle": false,
     "title": ""
    }
   },
   "outputs": [
    {
     "data": {
      "text/html": [
       "<style scoped>\n",
       "  .ansiout {\n",
       "    display: block;\n",
       "    unicode-bidi: embed;\n",
       "    white-space: pre-wrap;\n",
       "    word-wrap: break-word;\n",
       "    word-break: break-all;\n",
       "    font-family: \"Source Code Pro\", \"Menlo\", monospace;;\n",
       "    font-size: 13px;\n",
       "    color: #555;\n",
       "    margin-left: 4px;\n",
       "    line-height: 19px;\n",
       "  }\n",
       "</style>\n",
       "<div class=\"ansiout\"></div>"
      ]
     },
     "metadata": {
      "application/vnd.databricks.v1+output": {
       "addedWidgets": {},
       "arguments": {},
       "data": "<div class=\"ansiout\"></div>",
       "datasetInfos": [
        {
         "name": "df_eval",
         "schema": {
          "fields": [
           {
            "metadata": {},
            "name": "Black Elo",
            "nullable": true,
            "type": "string"
           },
           {
            "metadata": {},
            "name": "White Elo",
            "nullable": true,
            "type": "string"
           },
           {
            "metadata": {},
            "name": "Result",
            "nullable": true,
            "type": "string"
           },
           {
            "metadata": {},
            "name": "elo_diff",
            "nullable": true,
            "type": "double"
           },
           {
            "metadata": {},
            "name": "expected_score_fide",
            "nullable": true,
            "type": "float"
           },
           {
            "metadata": {
             "ml_attr": {
              "attrs": {
               "binary": [
                {
                 "idx": 0,
                 "name": "blitz"
                },
                {
                 "idx": 1,
                 "name": "bullet"
                },
                {
                 "idx": 2,
                 "name": "rapid"
                },
                {
                 "idx": 3,
                 "name": "daily"
                },
                {
                 "idx": 4,
                 "name": "__unknown"
                }
               ]
              },
              "num_attrs": 5
             }
            },
            "name": "Time Class",
            "nullable": true,
            "type": {
             "class": "org.apache.spark.ml.linalg.VectorUDT",
             "pyClass": "pyspark.ml.linalg.VectorUDT",
             "sqlType": {
              "fields": [
               {
                "metadata": {},
                "name": "type",
                "nullable": false,
                "type": "byte"
               },
               {
                "metadata": {},
                "name": "size",
                "nullable": true,
                "type": "integer"
               },
               {
                "metadata": {},
                "name": "indices",
                "nullable": true,
                "type": {
                 "containsNull": false,
                 "elementType": "integer",
                 "type": "array"
                }
               },
               {
                "metadata": {},
                "name": "values",
                "nullable": true,
                "type": {
                 "containsNull": false,
                 "elementType": "double",
                 "type": "array"
                }
               }
              ],
              "type": "struct"
             },
             "type": "udt"
            }
           },
           {
            "metadata": {
             "ml_attr": {
              "attrs": {
               "binary": [
                {
                 "idx": 0,
                 "name": "180"
                },
                {
                 "idx": 1,
                 "name": "60"
                },
                {
                 "idx": 2,
                 "name": "180+1"
                },
                {
                 "idx": 3,
                 "name": "30"
                },
                {
                 "idx": 4,
                 "name": "600+2"
                },
                {
                 "idx": 5,
                 "name": "300"
                },
                {
                 "idx": 6,
                 "name": "600"
                },
                {
                 "idx": 7,
                 "name": "900+3"
                },
                {
                 "idx": 8,
                 "name": "180+2"
                },
                {
                 "idx": 9,
                 "name": "60+1"
                },
                {
                 "idx": 10,
                 "name": "900"
                },
                {
                 "idx": 11,
                 "name": "1/259200"
                },
                {
                 "idx": 12,
                 "name": "300+2"
                },
                {
                 "idx": 13,
                 "name": "10"
                },
                {
                 "idx": 14,
                 "name": "1/1209600"
                },
                {
                 "idx": 15,
                 "name": "1/172800"
                },
                {
                 "idx": 16,
                 "name": "1/86400"
                },
                {
                 "idx": 17,
                 "name": "600+5"
                },
                {
                 "idx": 18,
                 "name": "900+10"
                },
                {
                 "idx": 19,
                 "name": "900+5"
                },
                {
                 "idx": 20,
                 "name": "1/604800"
                },
                {
                 "idx": 21,
                 "name": "10+4"
                },
                {
                 "idx": 22,
                 "name": "120+1"
                },
                {
                 "idx": 23,
                 "name": "1800+5"
                },
                {
                 "idx": 24,
                 "name": "1805"
                },
                {
                 "idx": 25,
                 "name": "20+1"
                },
                {
                 "idx": 26,
                 "name": "__unknown"
                }
               ]
              },
              "num_attrs": 27
             }
            },
            "name": "Time Control",
            "nullable": true,
            "type": {
             "class": "org.apache.spark.ml.linalg.VectorUDT",
             "pyClass": "pyspark.ml.linalg.VectorUDT",
             "sqlType": {
              "fields": [
               {
                "metadata": {},
                "name": "type",
                "nullable": false,
                "type": "byte"
               },
               {
                "metadata": {},
                "name": "size",
                "nullable": true,
                "type": "integer"
               },
               {
                "metadata": {},
                "name": "indices",
                "nullable": true,
                "type": {
                 "containsNull": false,
                 "elementType": "integer",
                 "type": "array"
                }
               },
               {
                "metadata": {},
                "name": "values",
                "nullable": true,
                "type": {
                 "containsNull": false,
                 "elementType": "double",
                 "type": "array"
                }
               }
              ],
              "type": "struct"
             },
             "type": "udt"
            }
           },
           {
            "metadata": {},
            "name": "result_int",
            "nullable": true,
            "type": "integer"
           }
          ],
          "type": "struct"
         },
         "tableIdentifier": null,
         "typeStr": "pyspark.sql.dataframe.DataFrame"
        }
       ],
       "metadata": {},
       "removedWidgets": [],
       "type": "html"
      }
     },
     "output_type": "display_data"
    }
   ],
   "source": [
    "df_eval = df_eval_ohe.withColumn('result_int',result_conv('Result'))"
   ]
  },
  {
   "cell_type": "code",
   "execution_count": null,
   "metadata": {
    "application/vnd.databricks.v1+cell": {
     "cellMetadata": {
      "byteLimit": 2048000,
      "rowLimit": 10000
     },
     "inputWidgets": {},
     "nuid": "f3136599-8d03-4dba-8ec0-fb577698fb45",
     "showTitle": false,
     "title": ""
    }
   },
   "outputs": [
    {
     "data": {
      "text/html": [
       "<style scoped>\n",
       "  .ansiout {\n",
       "    display: block;\n",
       "    unicode-bidi: embed;\n",
       "    white-space: pre-wrap;\n",
       "    word-wrap: break-word;\n",
       "    word-break: break-all;\n",
       "    font-family: \"Source Code Pro\", \"Menlo\", monospace;;\n",
       "    font-size: 13px;\n",
       "    color: #555;\n",
       "    margin-left: 4px;\n",
       "    line-height: 19px;\n",
       "  }\n",
       "</style>\n",
       "<div class=\"ansiout\"></div>"
      ]
     },
     "metadata": {
      "application/vnd.databricks.v1+output": {
       "addedWidgets": {},
       "arguments": {},
       "data": "<div class=\"ansiout\"></div>",
       "datasetInfos": [],
       "metadata": {},
       "removedWidgets": [],
       "type": "html"
      }
     },
     "output_type": "display_data"
    }
   ],
   "source": [
    "# create a safe convert to int\n",
    "def convert_to_int(x):\n",
    "    try:\n",
    "        return int(x)\n",
    "    except ValueError:\n",
    "        return None\n",
    "    \n",
    "int_conv = udf(convert_to_int, IntegerType())"
   ]
  },
  {
   "cell_type": "code",
   "execution_count": null,
   "metadata": {
    "application/vnd.databricks.v1+cell": {
     "cellMetadata": {
      "byteLimit": 2048000,
      "rowLimit": 10000
     },
     "inputWidgets": {},
     "nuid": "2f762753-e85d-40f2-8d8a-c818d81e84fb",
     "showTitle": false,
     "title": ""
    }
   },
   "outputs": [
    {
     "data": {
      "text/html": [
       "<style scoped>\n",
       "  .ansiout {\n",
       "    display: block;\n",
       "    unicode-bidi: embed;\n",
       "    white-space: pre-wrap;\n",
       "    word-wrap: break-word;\n",
       "    word-break: break-all;\n",
       "    font-family: \"Source Code Pro\", \"Menlo\", monospace;;\n",
       "    font-size: 13px;\n",
       "    color: #555;\n",
       "    margin-left: 4px;\n",
       "    line-height: 19px;\n",
       "  }\n",
       "</style>\n",
       "<div class=\"ansiout\"></div>"
      ]
     },
     "metadata": {
      "application/vnd.databricks.v1+output": {
       "addedWidgets": {},
       "arguments": {},
       "data": "<div class=\"ansiout\"></div>",
       "datasetInfos": [
        {
         "name": "df_eval",
         "schema": {
          "fields": [
           {
            "metadata": {},
            "name": "Black Elo",
            "nullable": true,
            "type": "integer"
           },
           {
            "metadata": {},
            "name": "White Elo",
            "nullable": true,
            "type": "integer"
           },
           {
            "metadata": {},
            "name": "Result",
            "nullable": true,
            "type": "string"
           },
           {
            "metadata": {},
            "name": "elo_diff",
            "nullable": true,
            "type": "double"
           },
           {
            "metadata": {},
            "name": "expected_score_fide",
            "nullable": true,
            "type": "float"
           },
           {
            "metadata": {
             "ml_attr": {
              "attrs": {
               "binary": [
                {
                 "idx": 0,
                 "name": "blitz"
                },
                {
                 "idx": 1,
                 "name": "bullet"
                },
                {
                 "idx": 2,
                 "name": "rapid"
                },
                {
                 "idx": 3,
                 "name": "daily"
                },
                {
                 "idx": 4,
                 "name": "__unknown"
                }
               ]
              },
              "num_attrs": 5
             }
            },
            "name": "Time Class",
            "nullable": true,
            "type": {
             "class": "org.apache.spark.ml.linalg.VectorUDT",
             "pyClass": "pyspark.ml.linalg.VectorUDT",
             "sqlType": {
              "fields": [
               {
                "metadata": {},
                "name": "type",
                "nullable": false,
                "type": "byte"
               },
               {
                "metadata": {},
                "name": "size",
                "nullable": true,
                "type": "integer"
               },
               {
                "metadata": {},
                "name": "indices",
                "nullable": true,
                "type": {
                 "containsNull": false,
                 "elementType": "integer",
                 "type": "array"
                }
               },
               {
                "metadata": {},
                "name": "values",
                "nullable": true,
                "type": {
                 "containsNull": false,
                 "elementType": "double",
                 "type": "array"
                }
               }
              ],
              "type": "struct"
             },
             "type": "udt"
            }
           },
           {
            "metadata": {
             "ml_attr": {
              "attrs": {
               "binary": [
                {
                 "idx": 0,
                 "name": "180"
                },
                {
                 "idx": 1,
                 "name": "60"
                },
                {
                 "idx": 2,
                 "name": "180+1"
                },
                {
                 "idx": 3,
                 "name": "30"
                },
                {
                 "idx": 4,
                 "name": "600+2"
                },
                {
                 "idx": 5,
                 "name": "300"
                },
                {
                 "idx": 6,
                 "name": "600"
                },
                {
                 "idx": 7,
                 "name": "900+3"
                },
                {
                 "idx": 8,
                 "name": "180+2"
                },
                {
                 "idx": 9,
                 "name": "60+1"
                },
                {
                 "idx": 10,
                 "name": "900"
                },
                {
                 "idx": 11,
                 "name": "1/259200"
                },
                {
                 "idx": 12,
                 "name": "300+2"
                },
                {
                 "idx": 13,
                 "name": "10"
                },
                {
                 "idx": 14,
                 "name": "1/1209600"
                },
                {
                 "idx": 15,
                 "name": "1/172800"
                },
                {
                 "idx": 16,
                 "name": "1/86400"
                },
                {
                 "idx": 17,
                 "name": "600+5"
                },
                {
                 "idx": 18,
                 "name": "900+10"
                },
                {
                 "idx": 19,
                 "name": "900+5"
                },
                {
                 "idx": 20,
                 "name": "1/604800"
                },
                {
                 "idx": 21,
                 "name": "10+4"
                },
                {
                 "idx": 22,
                 "name": "120+1"
                },
                {
                 "idx": 23,
                 "name": "1800+5"
                },
                {
                 "idx": 24,
                 "name": "1805"
                },
                {
                 "idx": 25,
                 "name": "20+1"
                },
                {
                 "idx": 26,
                 "name": "__unknown"
                }
               ]
              },
              "num_attrs": 27
             }
            },
            "name": "Time Control",
            "nullable": true,
            "type": {
             "class": "org.apache.spark.ml.linalg.VectorUDT",
             "pyClass": "pyspark.ml.linalg.VectorUDT",
             "sqlType": {
              "fields": [
               {
                "metadata": {},
                "name": "type",
                "nullable": false,
                "type": "byte"
               },
               {
                "metadata": {},
                "name": "size",
                "nullable": true,
                "type": "integer"
               },
               {
                "metadata": {},
                "name": "indices",
                "nullable": true,
                "type": {
                 "containsNull": false,
                 "elementType": "integer",
                 "type": "array"
                }
               },
               {
                "metadata": {},
                "name": "values",
                "nullable": true,
                "type": {
                 "containsNull": false,
                 "elementType": "double",
                 "type": "array"
                }
               }
              ],
              "type": "struct"
             },
             "type": "udt"
            }
           },
           {
            "metadata": {},
            "name": "result_int",
            "nullable": true,
            "type": "integer"
           }
          ],
          "type": "struct"
         },
         "tableIdentifier": null,
         "typeStr": "pyspark.sql.dataframe.DataFrame"
        }
       ],
       "metadata": {},
       "removedWidgets": [],
       "type": "html"
      }
     },
     "output_type": "display_data"
    }
   ],
   "source": [
    "# select the values we want to use in the model\n",
    "df_eval = df_eval.select(int_conv('Black Elo').alias('Black Elo'), int_conv('White Elo').alias('White Elo'), 'Result', 'elo_diff', 'expected_score_fide', 'Time Class', 'Time Control', 'result_int')"
   ]
  },
  {
   "cell_type": "code",
   "execution_count": null,
   "metadata": {
    "application/vnd.databricks.v1+cell": {
     "cellMetadata": {
      "byteLimit": 2048000,
      "rowLimit": 10000
     },
     "inputWidgets": {},
     "nuid": "d1705ee6-843e-4e31-a9a8-702116ce666b",
     "showTitle": false,
     "title": ""
    }
   },
   "outputs": [
    {
     "data": {
      "text/html": [
       "<style scoped>\n",
       "  .ansiout {\n",
       "    display: block;\n",
       "    unicode-bidi: embed;\n",
       "    white-space: pre-wrap;\n",
       "    word-wrap: break-word;\n",
       "    word-break: break-all;\n",
       "    font-family: \"Source Code Pro\", \"Menlo\", monospace;;\n",
       "    font-size: 13px;\n",
       "    color: #555;\n",
       "    margin-left: 4px;\n",
       "    line-height: 19px;\n",
       "  }\n",
       "</style>\n",
       "<div class=\"ansiout\"></div>"
      ]
     },
     "metadata": {
      "application/vnd.databricks.v1+output": {
       "addedWidgets": {},
       "arguments": {},
       "data": "<div class=\"ansiout\"></div>",
       "datasetInfos": [
        {
         "name": "df_eval",
         "schema": {
          "fields": [
           {
            "metadata": {},
            "name": "Black Elo",
            "nullable": true,
            "type": "integer"
           },
           {
            "metadata": {},
            "name": "White Elo",
            "nullable": true,
            "type": "integer"
           },
           {
            "metadata": {},
            "name": "Result",
            "nullable": true,
            "type": "string"
           },
           {
            "metadata": {},
            "name": "elo_diff",
            "nullable": true,
            "type": "double"
           },
           {
            "metadata": {},
            "name": "expected_score_fide",
            "nullable": true,
            "type": "float"
           },
           {
            "metadata": {
             "ml_attr": {
              "attrs": {
               "binary": [
                {
                 "idx": 0,
                 "name": "blitz"
                },
                {
                 "idx": 1,
                 "name": "bullet"
                },
                {
                 "idx": 2,
                 "name": "rapid"
                },
                {
                 "idx": 3,
                 "name": "daily"
                },
                {
                 "idx": 4,
                 "name": "__unknown"
                }
               ]
              },
              "num_attrs": 5
             }
            },
            "name": "Time Class",
            "nullable": true,
            "type": {
             "class": "org.apache.spark.ml.linalg.VectorUDT",
             "pyClass": "pyspark.ml.linalg.VectorUDT",
             "sqlType": {
              "fields": [
               {
                "metadata": {},
                "name": "type",
                "nullable": false,
                "type": "byte"
               },
               {
                "metadata": {},
                "name": "size",
                "nullable": true,
                "type": "integer"
               },
               {
                "metadata": {},
                "name": "indices",
                "nullable": true,
                "type": {
                 "containsNull": false,
                 "elementType": "integer",
                 "type": "array"
                }
               },
               {
                "metadata": {},
                "name": "values",
                "nullable": true,
                "type": {
                 "containsNull": false,
                 "elementType": "double",
                 "type": "array"
                }
               }
              ],
              "type": "struct"
             },
             "type": "udt"
            }
           },
           {
            "metadata": {
             "ml_attr": {
              "attrs": {
               "binary": [
                {
                 "idx": 0,
                 "name": "180"
                },
                {
                 "idx": 1,
                 "name": "60"
                },
                {
                 "idx": 2,
                 "name": "180+1"
                },
                {
                 "idx": 3,
                 "name": "30"
                },
                {
                 "idx": 4,
                 "name": "600+2"
                },
                {
                 "idx": 5,
                 "name": "300"
                },
                {
                 "idx": 6,
                 "name": "600"
                },
                {
                 "idx": 7,
                 "name": "900+3"
                },
                {
                 "idx": 8,
                 "name": "180+2"
                },
                {
                 "idx": 9,
                 "name": "60+1"
                },
                {
                 "idx": 10,
                 "name": "900"
                },
                {
                 "idx": 11,
                 "name": "1/259200"
                },
                {
                 "idx": 12,
                 "name": "300+2"
                },
                {
                 "idx": 13,
                 "name": "10"
                },
                {
                 "idx": 14,
                 "name": "1/1209600"
                },
                {
                 "idx": 15,
                 "name": "1/172800"
                },
                {
                 "idx": 16,
                 "name": "1/86400"
                },
                {
                 "idx": 17,
                 "name": "600+5"
                },
                {
                 "idx": 18,
                 "name": "900+10"
                },
                {
                 "idx": 19,
                 "name": "900+5"
                },
                {
                 "idx": 20,
                 "name": "1/604800"
                },
                {
                 "idx": 21,
                 "name": "10+4"
                },
                {
                 "idx": 22,
                 "name": "120+1"
                },
                {
                 "idx": 23,
                 "name": "1800+5"
                },
                {
                 "idx": 24,
                 "name": "1805"
                },
                {
                 "idx": 25,
                 "name": "20+1"
                },
                {
                 "idx": 26,
                 "name": "__unknown"
                }
               ]
              },
              "num_attrs": 27
             }
            },
            "name": "Time Control",
            "nullable": true,
            "type": {
             "class": "org.apache.spark.ml.linalg.VectorUDT",
             "pyClass": "pyspark.ml.linalg.VectorUDT",
             "sqlType": {
              "fields": [
               {
                "metadata": {},
                "name": "type",
                "nullable": false,
                "type": "byte"
               },
               {
                "metadata": {},
                "name": "size",
                "nullable": true,
                "type": "integer"
               },
               {
                "metadata": {},
                "name": "indices",
                "nullable": true,
                "type": {
                 "containsNull": false,
                 "elementType": "integer",
                 "type": "array"
                }
               },
               {
                "metadata": {},
                "name": "values",
                "nullable": true,
                "type": {
                 "containsNull": false,
                 "elementType": "double",
                 "type": "array"
                }
               }
              ],
              "type": "struct"
             },
             "type": "udt"
            }
           },
           {
            "metadata": {},
            "name": "result_int",
            "nullable": true,
            "type": "integer"
           }
          ],
          "type": "struct"
         },
         "tableIdentifier": null,
         "typeStr": "pyspark.sql.dataframe.DataFrame"
        }
       ],
       "metadata": {},
       "removedWidgets": [],
       "type": "html"
      }
     },
     "output_type": "display_data"
    }
   ],
   "source": [
    "# get rid of draws, we are only looking at wins and losses\n",
    "df_eval = df_eval.where(df_eval.result_int != 2)"
   ]
  },
  {
   "cell_type": "markdown",
   "metadata": {},
   "source": [
    "### What does df look like after all the feature engineering?"
   ]
  },
  {
   "cell_type": "code",
   "execution_count": null,
   "metadata": {
    "application/vnd.databricks.v1+cell": {
     "cellMetadata": {
      "byteLimit": 2048000,
      "rowLimit": 10000
     },
     "inputWidgets": {},
     "nuid": "46d7c6b4-5882-4e8f-8ef8-d3a54181a308",
     "showTitle": false,
     "title": ""
    }
   },
   "outputs": [
    {
     "data": {
      "text/html": [
       "<style scoped>\n",
       "  .ansiout {\n",
       "    display: block;\n",
       "    unicode-bidi: embed;\n",
       "    white-space: pre-wrap;\n",
       "    word-wrap: break-word;\n",
       "    word-break: break-all;\n",
       "    font-family: \"Source Code Pro\", \"Menlo\", monospace;;\n",
       "    font-size: 13px;\n",
       "    color: #555;\n",
       "    margin-left: 4px;\n",
       "    line-height: 19px;\n",
       "  }\n",
       "</style>\n",
       "<div class=\"ansiout\">+---------+---------+------+--------+-------------------+-------------+--------------+----------+\n",
       "Black Elo|White Elo|Result|elo_diff|expected_score_fide|   Time Class|  Time Control|result_int|\n",
       "+---------+---------+------+--------+-------------------+-------------+--------------+----------+\n",
       "     2350|     2500|   1-0|   150.0|          0.7002084|(5,[2],[1.0])|(27,[4],[1.0])|         1|\n",
       "     2646|     2331|   0-1|  -315.0|         0.13512218|(5,[2],[1.0])|(27,[4],[1.0])|         0|\n",
       "     2287|     2317|   0-1|    30.0|          0.5418121|(5,[2],[1.0])|(27,[4],[1.0])|         0|\n",
       "     2440|     2406|   1-0|   -34.0|         0.45263767|(5,[2],[1.0])|(27,[4],[1.0])|         1|\n",
       "     2386|     2544|   1-0|   158.0|          0.7098683|(5,[2],[1.0])|(27,[4],[1.0])|         1|\n",
       "     2778|     2746|   1-0|   -32.0|          0.4554117|(5,[0],[1.0])|(27,[0],[1.0])|         1|\n",
       "     2646|     2736|   0-1|    90.0|          0.6236192|(5,[0],[1.0])|(27,[0],[1.0])|         0|\n",
       "     2767|     2665|   1-0|  -102.0|          0.3605459|(5,[0],[1.0])|(27,[0],[1.0])|         1|\n",
       "     2785|     2637|   0-1|  -148.0|         0.30222914|(5,[0],[1.0])|(27,[0],[1.0])|         0|\n",
       "     2748|     2805|   1-0|    57.0|          0.5790642|(5,[0],[1.0])|(27,[0],[1.0])|         1|\n",
       "     2771|     2878|   1-0|   107.0|          0.6459838|(5,[0],[1.0])|(27,[0],[1.0])|         1|\n",
       "     2868|     2781|   1-0|   -87.0|          0.3803735|(5,[0],[1.0])|(27,[0],[1.0])|         1|\n",
       "     2864|     2785|   0-1|   -79.0|         0.39108202|(5,[0],[1.0])|(27,[0],[1.0])|         0|\n",
       "     2748|     2909|   1-0|   161.0|         0.71345276|(5,[0],[1.0])|(27,[8],[1.0])|         1|\n",
       "     2908|     2761|   0-1|  -147.0|         0.30345124|(5,[0],[1.0])|(27,[8],[1.0])|         0|\n",
       "     2625|     2417|   0-1|  -208.0|          0.2333068|(5,[2],[1.0])|(27,[4],[1.0])|         0|\n",
       "     2529|     2453|   1-0|   -76.0|          0.3951196|(5,[2],[1.0])|(27,[4],[1.0])|         1|\n",
       "     2514|     2770|   1-0|   256.0|         0.81487364|(5,[0],[1.0])|(27,[2],[1.0])|         1|\n",
       "     2772|     2431|   0-1|  -341.0|         0.11633681|(5,[0],[1.0])|(27,[2],[1.0])|         0|\n",
       "     2767|     2926|   1-0|   159.0|          0.7110655|(5,[0],[1.0])|(27,[2],[1.0])|         1|\n",
       "+---------+---------+------+--------+-------------------+-------------+--------------+----------+\n",
       "only showing top 20 rows\n",
       "\n",
       "</div>"
      ]
     },
     "metadata": {
      "application/vnd.databricks.v1+output": {
       "addedWidgets": {},
       "arguments": {},
       "data": "<div class=\"ansiout\">+---------+---------+------+--------+-------------------+-------------+--------------+----------+\n|Black Elo|White Elo|Result|elo_diff|expected_score_fide|   Time Class|  Time Control|result_int|\n+---------+---------+------+--------+-------------------+-------------+--------------+----------+\n|     2350|     2500|   1-0|   150.0|          0.7002084|(5,[2],[1.0])|(27,[4],[1.0])|         1|\n|     2646|     2331|   0-1|  -315.0|         0.13512218|(5,[2],[1.0])|(27,[4],[1.0])|         0|\n|     2287|     2317|   0-1|    30.0|          0.5418121|(5,[2],[1.0])|(27,[4],[1.0])|         0|\n|     2440|     2406|   1-0|   -34.0|         0.45263767|(5,[2],[1.0])|(27,[4],[1.0])|         1|\n|     2386|     2544|   1-0|   158.0|          0.7098683|(5,[2],[1.0])|(27,[4],[1.0])|         1|\n|     2778|     2746|   1-0|   -32.0|          0.4554117|(5,[0],[1.0])|(27,[0],[1.0])|         1|\n|     2646|     2736|   0-1|    90.0|          0.6236192|(5,[0],[1.0])|(27,[0],[1.0])|         0|\n|     2767|     2665|   1-0|  -102.0|          0.3605459|(5,[0],[1.0])|(27,[0],[1.0])|         1|\n|     2785|     2637|   0-1|  -148.0|         0.30222914|(5,[0],[1.0])|(27,[0],[1.0])|         0|\n|     2748|     2805|   1-0|    57.0|          0.5790642|(5,[0],[1.0])|(27,[0],[1.0])|         1|\n|     2771|     2878|   1-0|   107.0|          0.6459838|(5,[0],[1.0])|(27,[0],[1.0])|         1|\n|     2868|     2781|   1-0|   -87.0|          0.3803735|(5,[0],[1.0])|(27,[0],[1.0])|         1|\n|     2864|     2785|   0-1|   -79.0|         0.39108202|(5,[0],[1.0])|(27,[0],[1.0])|         0|\n|     2748|     2909|   1-0|   161.0|         0.71345276|(5,[0],[1.0])|(27,[8],[1.0])|         1|\n|     2908|     2761|   0-1|  -147.0|         0.30345124|(5,[0],[1.0])|(27,[8],[1.0])|         0|\n|     2625|     2417|   0-1|  -208.0|          0.2333068|(5,[2],[1.0])|(27,[4],[1.0])|         0|\n|     2529|     2453|   1-0|   -76.0|          0.3951196|(5,[2],[1.0])|(27,[4],[1.0])|         1|\n|     2514|     2770|   1-0|   256.0|         0.81487364|(5,[0],[1.0])|(27,[2],[1.0])|         1|\n|     2772|     2431|   0-1|  -341.0|         0.11633681|(5,[0],[1.0])|(27,[2],[1.0])|         0|\n|     2767|     2926|   1-0|   159.0|          0.7110655|(5,[0],[1.0])|(27,[2],[1.0])|         1|\n+---------+---------+------+--------+-------------------+-------------+--------------+----------+\nonly showing top 20 rows\n\n</div>",
       "datasetInfos": [],
       "metadata": {},
       "removedWidgets": [],
       "type": "html"
      }
     },
     "output_type": "display_data"
    }
   ],
   "source": [
    "df_eval.show()"
   ]
  },
  {
   "cell_type": "markdown",
   "metadata": {},
   "source": [
    "## Metrics from using all of the given features"
   ]
  },
  {
   "cell_type": "code",
   "execution_count": null,
   "metadata": {
    "application/vnd.databricks.v1+cell": {
     "cellMetadata": {
      "byteLimit": 2048000,
      "rowLimit": 10000
     },
     "inputWidgets": {},
     "nuid": "0856b9ef-71b9-485b-9591-2e69dea7b7ef",
     "showTitle": false,
     "title": ""
    }
   },
   "outputs": [
    {
     "data": {
      "text/html": [
       "<style scoped>\n",
       "  .ansiout {\n",
       "    display: block;\n",
       "    unicode-bidi: embed;\n",
       "    white-space: pre-wrap;\n",
       "    word-wrap: break-word;\n",
       "    word-break: break-all;\n",
       "    font-family: \"Source Code Pro\", \"Menlo\", monospace;;\n",
       "    font-size: 13px;\n",
       "    color: #555;\n",
       "    margin-left: 4px;\n",
       "    line-height: 19px;\n",
       "  }\n",
       "</style>\n",
       "<div class=\"ansiout\">Accuracy: 0.6676923076923077\n",
       "Area under PR: 0.7750948922399051\n",
       "Area under ROC: 0.7602168403027941\n",
       "</div>"
      ]
     },
     "metadata": {
      "application/vnd.databricks.v1+output": {
       "addedWidgets": {},
       "arguments": {},
       "data": "<div class=\"ansiout\">Accuracy: 0.6676923076923077\nArea under PR: 0.7750948922399051\nArea under ROC: 0.7602168403027941\n</div>",
       "datasetInfos": [
        {
         "name": "train",
         "schema": {
          "fields": [
           {
            "metadata": {},
            "name": "Black Elo",
            "nullable": true,
            "type": "integer"
           },
           {
            "metadata": {},
            "name": "White Elo",
            "nullable": true,
            "type": "integer"
           },
           {
            "metadata": {},
            "name": "Result",
            "nullable": true,
            "type": "string"
           },
           {
            "metadata": {},
            "name": "elo_diff",
            "nullable": true,
            "type": "double"
           },
           {
            "metadata": {},
            "name": "expected_score_fide",
            "nullable": true,
            "type": "float"
           },
           {
            "metadata": {
             "ml_attr": {
              "attrs": {
               "binary": [
                {
                 "idx": 0,
                 "name": "blitz"
                },
                {
                 "idx": 1,
                 "name": "bullet"
                },
                {
                 "idx": 2,
                 "name": "rapid"
                },
                {
                 "idx": 3,
                 "name": "daily"
                },
                {
                 "idx": 4,
                 "name": "__unknown"
                }
               ]
              },
              "num_attrs": 5
             }
            },
            "name": "Time Class",
            "nullable": true,
            "type": {
             "class": "org.apache.spark.ml.linalg.VectorUDT",
             "pyClass": "pyspark.ml.linalg.VectorUDT",
             "sqlType": {
              "fields": [
               {
                "metadata": {},
                "name": "type",
                "nullable": false,
                "type": "byte"
               },
               {
                "metadata": {},
                "name": "size",
                "nullable": true,
                "type": "integer"
               },
               {
                "metadata": {},
                "name": "indices",
                "nullable": true,
                "type": {
                 "containsNull": false,
                 "elementType": "integer",
                 "type": "array"
                }
               },
               {
                "metadata": {},
                "name": "values",
                "nullable": true,
                "type": {
                 "containsNull": false,
                 "elementType": "double",
                 "type": "array"
                }
               }
              ],
              "type": "struct"
             },
             "type": "udt"
            }
           },
           {
            "metadata": {
             "ml_attr": {
              "attrs": {
               "binary": [
                {
                 "idx": 0,
                 "name": "180"
                },
                {
                 "idx": 1,
                 "name": "60"
                },
                {
                 "idx": 2,
                 "name": "180+1"
                },
                {
                 "idx": 3,
                 "name": "30"
                },
                {
                 "idx": 4,
                 "name": "600+2"
                },
                {
                 "idx": 5,
                 "name": "300"
                },
                {
                 "idx": 6,
                 "name": "600"
                },
                {
                 "idx": 7,
                 "name": "900+3"
                },
                {
                 "idx": 8,
                 "name": "180+2"
                },
                {
                 "idx": 9,
                 "name": "60+1"
                },
                {
                 "idx": 10,
                 "name": "900"
                },
                {
                 "idx": 11,
                 "name": "1/259200"
                },
                {
                 "idx": 12,
                 "name": "300+2"
                },
                {
                 "idx": 13,
                 "name": "10"
                },
                {
                 "idx": 14,
                 "name": "1/1209600"
                },
                {
                 "idx": 15,
                 "name": "1/172800"
                },
                {
                 "idx": 16,
                 "name": "1/86400"
                },
                {
                 "idx": 17,
                 "name": "600+5"
                },
                {
                 "idx": 18,
                 "name": "900+10"
                },
                {
                 "idx": 19,
                 "name": "900+5"
                },
                {
                 "idx": 20,
                 "name": "1/604800"
                },
                {
                 "idx": 21,
                 "name": "10+4"
                },
                {
                 "idx": 22,
                 "name": "120+1"
                },
                {
                 "idx": 23,
                 "name": "1800+5"
                },
                {
                 "idx": 24,
                 "name": "1805"
                },
                {
                 "idx": 25,
                 "name": "20+1"
                },
                {
                 "idx": 26,
                 "name": "__unknown"
                }
               ]
              },
              "num_attrs": 27
             }
            },
            "name": "Time Control",
            "nullable": true,
            "type": {
             "class": "org.apache.spark.ml.linalg.VectorUDT",
             "pyClass": "pyspark.ml.linalg.VectorUDT",
             "sqlType": {
              "fields": [
               {
                "metadata": {},
                "name": "type",
                "nullable": false,
                "type": "byte"
               },
               {
                "metadata": {},
                "name": "size",
                "nullable": true,
                "type": "integer"
               },
               {
                "metadata": {},
                "name": "indices",
                "nullable": true,
                "type": {
                 "containsNull": false,
                 "elementType": "integer",
                 "type": "array"
                }
               },
               {
                "metadata": {},
                "name": "values",
                "nullable": true,
                "type": {
                 "containsNull": false,
                 "elementType": "double",
                 "type": "array"
                }
               }
              ],
              "type": "struct"
             },
             "type": "udt"
            }
           },
           {
            "metadata": {},
            "name": "result_int",
            "nullable": true,
            "type": "integer"
           }
          ],
          "type": "struct"
         },
         "tableIdentifier": null,
         "typeStr": "pyspark.sql.dataframe.DataFrame"
        },
        {
         "name": "validation",
         "schema": {
          "fields": [
           {
            "metadata": {},
            "name": "Black Elo",
            "nullable": true,
            "type": "integer"
           },
           {
            "metadata": {},
            "name": "White Elo",
            "nullable": true,
            "type": "integer"
           },
           {
            "metadata": {},
            "name": "Result",
            "nullable": true,
            "type": "string"
           },
           {
            "metadata": {},
            "name": "elo_diff",
            "nullable": true,
            "type": "double"
           },
           {
            "metadata": {},
            "name": "expected_score_fide",
            "nullable": true,
            "type": "float"
           },
           {
            "metadata": {
             "ml_attr": {
              "attrs": {
               "binary": [
                {
                 "idx": 0,
                 "name": "blitz"
                },
                {
                 "idx": 1,
                 "name": "bullet"
                },
                {
                 "idx": 2,
                 "name": "rapid"
                },
                {
                 "idx": 3,
                 "name": "daily"
                },
                {
                 "idx": 4,
                 "name": "__unknown"
                }
               ]
              },
              "num_attrs": 5
             }
            },
            "name": "Time Class",
            "nullable": true,
            "type": {
             "class": "org.apache.spark.ml.linalg.VectorUDT",
             "pyClass": "pyspark.ml.linalg.VectorUDT",
             "sqlType": {
              "fields": [
               {
                "metadata": {},
                "name": "type",
                "nullable": false,
                "type": "byte"
               },
               {
                "metadata": {},
                "name": "size",
                "nullable": true,
                "type": "integer"
               },
               {
                "metadata": {},
                "name": "indices",
                "nullable": true,
                "type": {
                 "containsNull": false,
                 "elementType": "integer",
                 "type": "array"
                }
               },
               {
                "metadata": {},
                "name": "values",
                "nullable": true,
                "type": {
                 "containsNull": false,
                 "elementType": "double",
                 "type": "array"
                }
               }
              ],
              "type": "struct"
             },
             "type": "udt"
            }
           },
           {
            "metadata": {
             "ml_attr": {
              "attrs": {
               "binary": [
                {
                 "idx": 0,
                 "name": "180"
                },
                {
                 "idx": 1,
                 "name": "60"
                },
                {
                 "idx": 2,
                 "name": "180+1"
                },
                {
                 "idx": 3,
                 "name": "30"
                },
                {
                 "idx": 4,
                 "name": "600+2"
                },
                {
                 "idx": 5,
                 "name": "300"
                },
                {
                 "idx": 6,
                 "name": "600"
                },
                {
                 "idx": 7,
                 "name": "900+3"
                },
                {
                 "idx": 8,
                 "name": "180+2"
                },
                {
                 "idx": 9,
                 "name": "60+1"
                },
                {
                 "idx": 10,
                 "name": "900"
                },
                {
                 "idx": 11,
                 "name": "1/259200"
                },
                {
                 "idx": 12,
                 "name": "300+2"
                },
                {
                 "idx": 13,
                 "name": "10"
                },
                {
                 "idx": 14,
                 "name": "1/1209600"
                },
                {
                 "idx": 15,
                 "name": "1/172800"
                },
                {
                 "idx": 16,
                 "name": "1/86400"
                },
                {
                 "idx": 17,
                 "name": "600+5"
                },
                {
                 "idx": 18,
                 "name": "900+10"
                },
                {
                 "idx": 19,
                 "name": "900+5"
                },
                {
                 "idx": 20,
                 "name": "1/604800"
                },
                {
                 "idx": 21,
                 "name": "10+4"
                },
                {
                 "idx": 22,
                 "name": "120+1"
                },
                {
                 "idx": 23,
                 "name": "1800+5"
                },
                {
                 "idx": 24,
                 "name": "1805"
                },
                {
                 "idx": 25,
                 "name": "20+1"
                },
                {
                 "idx": 26,
                 "name": "__unknown"
                }
               ]
              },
              "num_attrs": 27
             }
            },
            "name": "Time Control",
            "nullable": true,
            "type": {
             "class": "org.apache.spark.ml.linalg.VectorUDT",
             "pyClass": "pyspark.ml.linalg.VectorUDT",
             "sqlType": {
              "fields": [
               {
                "metadata": {},
                "name": "type",
                "nullable": false,
                "type": "byte"
               },
               {
                "metadata": {},
                "name": "size",
                "nullable": true,
                "type": "integer"
               },
               {
                "metadata": {},
                "name": "indices",
                "nullable": true,
                "type": {
                 "containsNull": false,
                 "elementType": "integer",
                 "type": "array"
                }
               },
               {
                "metadata": {},
                "name": "values",
                "nullable": true,
                "type": {
                 "containsNull": false,
                 "elementType": "double",
                 "type": "array"
                }
               }
              ],
              "type": "struct"
             },
             "type": "udt"
            }
           },
           {
            "metadata": {},
            "name": "result_int",
            "nullable": true,
            "type": "integer"
           }
          ],
          "type": "struct"
         },
         "tableIdentifier": null,
         "typeStr": "pyspark.sql.dataframe.DataFrame"
        },
        {
         "name": "train_transformed",
         "schema": {
          "fields": [
           {
            "metadata": {
             "ml_attr": {
              "attrs": {
               "binary": [
                {
                 "idx": 3,
                 "name": "Time Class_blitz"
                },
                {
                 "idx": 4,
                 "name": "Time Class_bullet"
                },
                {
                 "idx": 5,
                 "name": "Time Class_rapid"
                },
                {
                 "idx": 6,
                 "name": "Time Class_daily"
                },
                {
                 "idx": 7,
                 "name": "Time Class___unknown"
                },
                {
                 "idx": 8,
                 "name": "Time Control_180"
                },
                {
                 "idx": 9,
                 "name": "Time Control_60"
                },
                {
                 "idx": 10,
                 "name": "Time Control_180+1"
                },
                {
                 "idx": 11,
                 "name": "Time Control_30"
                },
                {
                 "idx": 12,
                 "name": "Time Control_600+2"
                },
                {
                 "idx": 13,
                 "name": "Time Control_300"
                },
                {
                 "idx": 14,
                 "name": "Time Control_600"
                },
                {
                 "idx": 15,
                 "name": "Time Control_900+3"
                },
                {
                 "idx": 16,
                 "name": "Time Control_180+2"
                },
                {
                 "idx": 17,
                 "name": "Time Control_60+1"
                },
                {
                 "idx": 18,
                 "name": "Time Control_900"
                },
                {
                 "idx": 19,
                 "name": "Time Control_1/259200"
                },
                {
                 "idx": 20,
                 "name": "Time Control_300+2"
                },
                {
                 "idx": 21,
                 "name": "Time Control_10"
                },
                {
                 "idx": 22,
                 "name": "Time Control_1/1209600"
                },
                {
                 "idx": 23,
                 "name": "Time Control_1/172800"
                },
                {
                 "idx": 24,
                 "name": "Time Control_1/86400"
                },
                {
                 "idx": 25,
                 "name": "Time Control_600+5"
                },
                {
                 "idx": 26,
                 "name": "Time Control_900+10"
                },
                {
                 "idx": 27,
                 "name": "Time Control_900+5"
                },
                {
                 "idx": 28,
                 "name": "Time Control_1/604800"
                },
                {
                 "idx": 29,
                 "name": "Time Control_10+4"
                },
                {
                 "idx": 30,
                 "name": "Time Control_120+1"
                },
                {
                 "idx": 31,
                 "name": "Time Control_1800+5"
                },
                {
                 "idx": 32,
                 "name": "Time Control_1805"
                },
                {
                 "idx": 33,
                 "name": "Time Control_20+1"
                },
                {
                 "idx": 34,
                 "name": "Time Control___unknown"
                }
               ],
               "numeric": [
                {
                 "idx": 0,
                 "name": "Black Elo"
                },
                {
                 "idx": 1,
                 "name": "White Elo"
                },
                {
                 "idx": 2,
                 "name": "elo_diff"
                }
               ]
              },
              "num_attrs": 35
             }
            },
            "name": "va_features",
            "nullable": true,
            "type": {
             "class": "org.apache.spark.ml.linalg.VectorUDT",
             "pyClass": "pyspark.ml.linalg.VectorUDT",
             "sqlType": {
              "fields": [
               {
                "metadata": {},
                "name": "type",
                "nullable": false,
                "type": "byte"
               },
               {
                "metadata": {},
                "name": "size",
                "nullable": true,
                "type": "integer"
               },
               {
                "metadata": {},
                "name": "indices",
                "nullable": true,
                "type": {
                 "containsNull": false,
                 "elementType": "integer",
                 "type": "array"
                }
               },
               {
                "metadata": {},
                "name": "values",
                "nullable": true,
                "type": {
                 "containsNull": false,
                 "elementType": "double",
                 "type": "array"
                }
               }
              ],
              "type": "struct"
             },
             "type": "udt"
            }
           },
           {
            "metadata": {},
            "name": "label",
            "nullable": true,
            "type": "integer"
           }
          ],
          "type": "struct"
         },
         "tableIdentifier": null,
         "typeStr": "pyspark.sql.dataframe.DataFrame"
        },
        {
         "name": "val_transformed",
         "schema": {
          "fields": [
           {
            "metadata": {
             "ml_attr": {
              "attrs": {
               "binary": [
                {
                 "idx": 3,
                 "name": "Time Class_blitz"
                },
                {
                 "idx": 4,
                 "name": "Time Class_bullet"
                },
                {
                 "idx": 5,
                 "name": "Time Class_rapid"
                },
                {
                 "idx": 6,
                 "name": "Time Class_daily"
                },
                {
                 "idx": 7,
                 "name": "Time Class___unknown"
                },
                {
                 "idx": 8,
                 "name": "Time Control_180"
                },
                {
                 "idx": 9,
                 "name": "Time Control_60"
                },
                {
                 "idx": 10,
                 "name": "Time Control_180+1"
                },
                {
                 "idx": 11,
                 "name": "Time Control_30"
                },
                {
                 "idx": 12,
                 "name": "Time Control_600+2"
                },
                {
                 "idx": 13,
                 "name": "Time Control_300"
                },
                {
                 "idx": 14,
                 "name": "Time Control_600"
                },
                {
                 "idx": 15,
                 "name": "Time Control_900+3"
                },
                {
                 "idx": 16,
                 "name": "Time Control_180+2"
                },
                {
                 "idx": 17,
                 "name": "Time Control_60+1"
                },
                {
                 "idx": 18,
                 "name": "Time Control_900"
                },
                {
                 "idx": 19,
                 "name": "Time Control_1/259200"
                },
                {
                 "idx": 20,
                 "name": "Time Control_300+2"
                },
                {
                 "idx": 21,
                 "name": "Time Control_10"
                },
                {
                 "idx": 22,
                 "name": "Time Control_1/1209600"
                },
                {
                 "idx": 23,
                 "name": "Time Control_1/172800"
                },
                {
                 "idx": 24,
                 "name": "Time Control_1/86400"
                },
                {
                 "idx": 25,
                 "name": "Time Control_600+5"
                },
                {
                 "idx": 26,
                 "name": "Time Control_900+10"
                },
                {
                 "idx": 27,
                 "name": "Time Control_900+5"
                },
                {
                 "idx": 28,
                 "name": "Time Control_1/604800"
                },
                {
                 "idx": 29,
                 "name": "Time Control_10+4"
                },
                {
                 "idx": 30,
                 "name": "Time Control_120+1"
                },
                {
                 "idx": 31,
                 "name": "Time Control_1800+5"
                },
                {
                 "idx": 32,
                 "name": "Time Control_1805"
                },
                {
                 "idx": 33,
                 "name": "Time Control_20+1"
                },
                {
                 "idx": 34,
                 "name": "Time Control___unknown"
                }
               ],
               "numeric": [
                {
                 "idx": 0,
                 "name": "Black Elo"
                },
                {
                 "idx": 1,
                 "name": "White Elo"
                },
                {
                 "idx": 2,
                 "name": "elo_diff"
                }
               ]
              },
              "num_attrs": 35
             }
            },
            "name": "va_features",
            "nullable": true,
            "type": {
             "class": "org.apache.spark.ml.linalg.VectorUDT",
             "pyClass": "pyspark.ml.linalg.VectorUDT",
             "sqlType": {
              "fields": [
               {
                "metadata": {},
                "name": "type",
                "nullable": false,
                "type": "byte"
               },
               {
                "metadata": {},
                "name": "size",
                "nullable": true,
                "type": "integer"
               },
               {
                "metadata": {},
                "name": "indices",
                "nullable": true,
                "type": {
                 "containsNull": false,
                 "elementType": "integer",
                 "type": "array"
                }
               },
               {
                "metadata": {},
                "name": "values",
                "nullable": true,
                "type": {
                 "containsNull": false,
                 "elementType": "double",
                 "type": "array"
                }
               }
              ],
              "type": "struct"
             },
             "type": "udt"
            }
           },
           {
            "metadata": {},
            "name": "label",
            "nullable": true,
            "type": "integer"
           }
          ],
          "type": "struct"
         },
         "tableIdentifier": null,
         "typeStr": "pyspark.sql.dataframe.DataFrame"
        },
        {
         "name": "scaled_data",
         "schema": {
          "fields": [
           {
            "metadata": {
             "ml_attr": {
              "attrs": {
               "binary": [
                {
                 "idx": 3,
                 "name": "Time Class_blitz"
                },
                {
                 "idx": 4,
                 "name": "Time Class_bullet"
                },
                {
                 "idx": 5,
                 "name": "Time Class_rapid"
                },
                {
                 "idx": 6,
                 "name": "Time Class_daily"
                },
                {
                 "idx": 7,
                 "name": "Time Class___unknown"
                },
                {
                 "idx": 8,
                 "name": "Time Control_180"
                },
                {
                 "idx": 9,
                 "name": "Time Control_60"
                },
                {
                 "idx": 10,
                 "name": "Time Control_180+1"
                },
                {
                 "idx": 11,
                 "name": "Time Control_30"
                },
                {
                 "idx": 12,
                 "name": "Time Control_600+2"
                },
                {
                 "idx": 13,
                 "name": "Time Control_300"
                },
                {
                 "idx": 14,
                 "name": "Time Control_600"
                },
                {
                 "idx": 15,
                 "name": "Time Control_900+3"
                },
                {
                 "idx": 16,
                 "name": "Time Control_180+2"
                },
                {
                 "idx": 17,
                 "name": "Time Control_60+1"
                },
                {
                 "idx": 18,
                 "name": "Time Control_900"
                },
                {
                 "idx": 19,
                 "name": "Time Control_1/259200"
                },
                {
                 "idx": 20,
                 "name": "Time Control_300+2"
                },
                {
                 "idx": 21,
                 "name": "Time Control_10"
                },
                {
                 "idx": 22,
                 "name": "Time Control_1/1209600"
                },
                {
                 "idx": 23,
                 "name": "Time Control_1/172800"
                },
                {
                 "idx": 24,
                 "name": "Time Control_1/86400"
                },
                {
                 "idx": 25,
                 "name": "Time Control_600+5"
                },
                {
                 "idx": 26,
                 "name": "Time Control_900+10"
                },
                {
                 "idx": 27,
                 "name": "Time Control_900+5"
                },
                {
                 "idx": 28,
                 "name": "Time Control_1/604800"
                },
                {
                 "idx": 29,
                 "name": "Time Control_10+4"
                },
                {
                 "idx": 30,
                 "name": "Time Control_120+1"
                },
                {
                 "idx": 31,
                 "name": "Time Control_1800+5"
                },
                {
                 "idx": 32,
                 "name": "Time Control_1805"
                },
                {
                 "idx": 33,
                 "name": "Time Control_20+1"
                },
                {
                 "idx": 34,
                 "name": "Time Control___unknown"
                }
               ],
               "numeric": [
                {
                 "idx": 0,
                 "name": "Black Elo"
                },
                {
                 "idx": 1,
                 "name": "White Elo"
                },
                {
                 "idx": 2,
                 "name": "elo_diff"
                }
               ]
              },
              "num_attrs": 35
             }
            },
            "name": "va_features",
            "nullable": true,
            "type": {
             "class": "org.apache.spark.ml.linalg.VectorUDT",
             "pyClass": "pyspark.ml.linalg.VectorUDT",
             "sqlType": {
              "fields": [
               {
                "metadata": {},
                "name": "type",
                "nullable": false,
                "type": "byte"
               },
               {
                "metadata": {},
                "name": "size",
                "nullable": true,
                "type": "integer"
               },
               {
                "metadata": {},
                "name": "indices",
                "nullable": true,
                "type": {
                 "containsNull": false,
                 "elementType": "integer",
                 "type": "array"
                }
               },
               {
                "metadata": {},
                "name": "values",
                "nullable": true,
                "type": {
                 "containsNull": false,
                 "elementType": "double",
                 "type": "array"
                }
               }
              ],
              "type": "struct"
             },
             "type": "udt"
            }
           },
           {
            "metadata": {},
            "name": "label",
            "nullable": true,
            "type": "integer"
           },
           {
            "metadata": {
             "ml_attr": {
              "num_attrs": 35
             }
            },
            "name": "features",
            "nullable": true,
            "type": {
             "class": "org.apache.spark.ml.linalg.VectorUDT",
             "pyClass": "pyspark.ml.linalg.VectorUDT",
             "sqlType": {
              "fields": [
               {
                "metadata": {},
                "name": "type",
                "nullable": false,
                "type": "byte"
               },
               {
                "metadata": {},
                "name": "size",
                "nullable": true,
                "type": "integer"
               },
               {
                "metadata": {},
                "name": "indices",
                "nullable": true,
                "type": {
                 "containsNull": false,
                 "elementType": "integer",
                 "type": "array"
                }
               },
               {
                "metadata": {},
                "name": "values",
                "nullable": true,
                "type": {
                 "containsNull": false,
                 "elementType": "double",
                 "type": "array"
                }
               }
              ],
              "type": "struct"
             },
             "type": "udt"
            }
           }
          ],
          "type": "struct"
         },
         "tableIdentifier": null,
         "typeStr": "pyspark.sql.dataframe.DataFrame"
        },
        {
         "name": "scaled_val",
         "schema": {
          "fields": [
           {
            "metadata": {
             "ml_attr": {
              "attrs": {
               "binary": [
                {
                 "idx": 3,
                 "name": "Time Class_blitz"
                },
                {
                 "idx": 4,
                 "name": "Time Class_bullet"
                },
                {
                 "idx": 5,
                 "name": "Time Class_rapid"
                },
                {
                 "idx": 6,
                 "name": "Time Class_daily"
                },
                {
                 "idx": 7,
                 "name": "Time Class___unknown"
                },
                {
                 "idx": 8,
                 "name": "Time Control_180"
                },
                {
                 "idx": 9,
                 "name": "Time Control_60"
                },
                {
                 "idx": 10,
                 "name": "Time Control_180+1"
                },
                {
                 "idx": 11,
                 "name": "Time Control_30"
                },
                {
                 "idx": 12,
                 "name": "Time Control_600+2"
                },
                {
                 "idx": 13,
                 "name": "Time Control_300"
                },
                {
                 "idx": 14,
                 "name": "Time Control_600"
                },
                {
                 "idx": 15,
                 "name": "Time Control_900+3"
                },
                {
                 "idx": 16,
                 "name": "Time Control_180+2"
                },
                {
                 "idx": 17,
                 "name": "Time Control_60+1"
                },
                {
                 "idx": 18,
                 "name": "Time Control_900"
                },
                {
                 "idx": 19,
                 "name": "Time Control_1/259200"
                },
                {
                 "idx": 20,
                 "name": "Time Control_300+2"
                },
                {
                 "idx": 21,
                 "name": "Time Control_10"
                },
                {
                 "idx": 22,
                 "name": "Time Control_1/1209600"
                },
                {
                 "idx": 23,
                 "name": "Time Control_1/172800"
                },
                {
                 "idx": 24,
                 "name": "Time Control_1/86400"
                },
                {
                 "idx": 25,
                 "name": "Time Control_600+5"
                },
                {
                 "idx": 26,
                 "name": "Time Control_900+10"
                },
                {
                 "idx": 27,
                 "name": "Time Control_900+5"
                },
                {
                 "idx": 28,
                 "name": "Time Control_1/604800"
                },
                {
                 "idx": 29,
                 "name": "Time Control_10+4"
                },
                {
                 "idx": 30,
                 "name": "Time Control_120+1"
                },
                {
                 "idx": 31,
                 "name": "Time Control_1800+5"
                },
                {
                 "idx": 32,
                 "name": "Time Control_1805"
                },
                {
                 "idx": 33,
                 "name": "Time Control_20+1"
                },
                {
                 "idx": 34,
                 "name": "Time Control___unknown"
                }
               ],
               "numeric": [
                {
                 "idx": 0,
                 "name": "Black Elo"
                },
                {
                 "idx": 1,
                 "name": "White Elo"
                },
                {
                 "idx": 2,
                 "name": "elo_diff"
                }
               ]
              },
              "num_attrs": 35
             }
            },
            "name": "va_features",
            "nullable": true,
            "type": {
             "class": "org.apache.spark.ml.linalg.VectorUDT",
             "pyClass": "pyspark.ml.linalg.VectorUDT",
             "sqlType": {
              "fields": [
               {
                "metadata": {},
                "name": "type",
                "nullable": false,
                "type": "byte"
               },
               {
                "metadata": {},
                "name": "size",
                "nullable": true,
                "type": "integer"
               },
               {
                "metadata": {},
                "name": "indices",
                "nullable": true,
                "type": {
                 "containsNull": false,
                 "elementType": "integer",
                 "type": "array"
                }
               },
               {
                "metadata": {},
                "name": "values",
                "nullable": true,
                "type": {
                 "containsNull": false,
                 "elementType": "double",
                 "type": "array"
                }
               }
              ],
              "type": "struct"
             },
             "type": "udt"
            }
           },
           {
            "metadata": {},
            "name": "label",
            "nullable": true,
            "type": "integer"
           },
           {
            "metadata": {
             "ml_attr": {
              "num_attrs": 35
             }
            },
            "name": "features",
            "nullable": true,
            "type": {
             "class": "org.apache.spark.ml.linalg.VectorUDT",
             "pyClass": "pyspark.ml.linalg.VectorUDT",
             "sqlType": {
              "fields": [
               {
                "metadata": {},
                "name": "type",
                "nullable": false,
                "type": "byte"
               },
               {
                "metadata": {},
                "name": "size",
                "nullable": true,
                "type": "integer"
               },
               {
                "metadata": {},
                "name": "indices",
                "nullable": true,
                "type": {
                 "containsNull": false,
                 "elementType": "integer",
                 "type": "array"
                }
               },
               {
                "metadata": {},
                "name": "values",
                "nullable": true,
                "type": {
                 "containsNull": false,
                 "elementType": "double",
                 "type": "array"
                }
               }
              ],
              "type": "struct"
             },
             "type": "udt"
            }
           }
          ],
          "type": "struct"
         },
         "tableIdentifier": null,
         "typeStr": "pyspark.sql.dataframe.DataFrame"
        },
        {
         "name": "predictions",
         "schema": {
          "fields": [
           {
            "metadata": {
             "ml_attr": {
              "attrs": {
               "binary": [
                {
                 "idx": 3,
                 "name": "Time Class_blitz"
                },
                {
                 "idx": 4,
                 "name": "Time Class_bullet"
                },
                {
                 "idx": 5,
                 "name": "Time Class_rapid"
                },
                {
                 "idx": 6,
                 "name": "Time Class_daily"
                },
                {
                 "idx": 7,
                 "name": "Time Class___unknown"
                },
                {
                 "idx": 8,
                 "name": "Time Control_180"
                },
                {
                 "idx": 9,
                 "name": "Time Control_60"
                },
                {
                 "idx": 10,
                 "name": "Time Control_180+1"
                },
                {
                 "idx": 11,
                 "name": "Time Control_30"
                },
                {
                 "idx": 12,
                 "name": "Time Control_600+2"
                },
                {
                 "idx": 13,
                 "name": "Time Control_300"
                },
                {
                 "idx": 14,
                 "name": "Time Control_600"
                },
                {
                 "idx": 15,
                 "name": "Time Control_900+3"
                },
                {
                 "idx": 16,
                 "name": "Time Control_180+2"
                },
                {
                 "idx": 17,
                 "name": "Time Control_60+1"
                },
                {
                 "idx": 18,
                 "name": "Time Control_900"
                },
                {
                 "idx": 19,
                 "name": "Time Control_1/259200"
                },
                {
                 "idx": 20,
                 "name": "Time Control_300+2"
                },
                {
                 "idx": 21,
                 "name": "Time Control_10"
                },
                {
                 "idx": 22,
                 "name": "Time Control_1/1209600"
                },
                {
                 "idx": 23,
                 "name": "Time Control_1/172800"
                },
                {
                 "idx": 24,
                 "name": "Time Control_1/86400"
                },
                {
                 "idx": 25,
                 "name": "Time Control_600+5"
                },
                {
                 "idx": 26,
                 "name": "Time Control_900+10"
                },
                {
                 "idx": 27,
                 "name": "Time Control_900+5"
                },
                {
                 "idx": 28,
                 "name": "Time Control_1/604800"
                },
                {
                 "idx": 29,
                 "name": "Time Control_10+4"
                },
                {
                 "idx": 30,
                 "name": "Time Control_120+1"
                },
                {
                 "idx": 31,
                 "name": "Time Control_1800+5"
                },
                {
                 "idx": 32,
                 "name": "Time Control_1805"
                },
                {
                 "idx": 33,
                 "name": "Time Control_20+1"
                },
                {
                 "idx": 34,
                 "name": "Time Control___unknown"
                }
               ],
               "numeric": [
                {
                 "idx": 0,
                 "name": "Black Elo"
                },
                {
                 "idx": 1,
                 "name": "White Elo"
                },
                {
                 "idx": 2,
                 "name": "elo_diff"
                }
               ]
              },
              "num_attrs": 35
             }
            },
            "name": "va_features",
            "nullable": true,
            "type": {
             "class": "org.apache.spark.ml.linalg.VectorUDT",
             "pyClass": "pyspark.ml.linalg.VectorUDT",
             "sqlType": {
              "fields": [
               {
                "metadata": {},
                "name": "type",
                "nullable": false,
                "type": "byte"
               },
               {
                "metadata": {},
                "name": "size",
                "nullable": true,
                "type": "integer"
               },
               {
                "metadata": {},
                "name": "indices",
                "nullable": true,
                "type": {
                 "containsNull": false,
                 "elementType": "integer",
                 "type": "array"
                }
               },
               {
                "metadata": {},
                "name": "values",
                "nullable": true,
                "type": {
                 "containsNull": false,
                 "elementType": "double",
                 "type": "array"
                }
               }
              ],
              "type": "struct"
             },
             "type": "udt"
            }
           },
           {
            "metadata": {},
            "name": "label",
            "nullable": true,
            "type": "integer"
           },
           {
            "metadata": {
             "ml_attr": {
              "num_attrs": 35
             }
            },
            "name": "features",
            "nullable": true,
            "type": {
             "class": "org.apache.spark.ml.linalg.VectorUDT",
             "pyClass": "pyspark.ml.linalg.VectorUDT",
             "sqlType": {
              "fields": [
               {
                "metadata": {},
                "name": "type",
                "nullable": false,
                "type": "byte"
               },
               {
                "metadata": {},
                "name": "size",
                "nullable": true,
                "type": "integer"
               },
               {
                "metadata": {},
                "name": "indices",
                "nullable": true,
                "type": {
                 "containsNull": false,
                 "elementType": "integer",
                 "type": "array"
                }
               },
               {
                "metadata": {},
                "name": "values",
                "nullable": true,
                "type": {
                 "containsNull": false,
                 "elementType": "double",
                 "type": "array"
                }
               }
              ],
              "type": "struct"
             },
             "type": "udt"
            }
           },
           {
            "metadata": {
             "ml_attr": {
              "num_attrs": 2
             }
            },
            "name": "rawPrediction",
            "nullable": true,
            "type": {
             "class": "org.apache.spark.ml.linalg.VectorUDT",
             "pyClass": "pyspark.ml.linalg.VectorUDT",
             "sqlType": {
              "fields": [
               {
                "metadata": {},
                "name": "type",
                "nullable": false,
                "type": "byte"
               },
               {
                "metadata": {},
                "name": "size",
                "nullable": true,
                "type": "integer"
               },
               {
                "metadata": {},
                "name": "indices",
                "nullable": true,
                "type": {
                 "containsNull": false,
                 "elementType": "integer",
                 "type": "array"
                }
               },
               {
                "metadata": {},
                "name": "values",
                "nullable": true,
                "type": {
                 "containsNull": false,
                 "elementType": "double",
                 "type": "array"
                }
               }
              ],
              "type": "struct"
             },
             "type": "udt"
            }
           },
           {
            "metadata": {
             "ml_attr": {
              "num_vals": 2,
              "type": "nominal"
             }
            },
            "name": "prediction",
            "nullable": false,
            "type": "double"
           }
          ],
          "type": "struct"
         },
         "tableIdentifier": null,
         "typeStr": "pyspark.sql.dataframe.DataFrame"
        }
       ],
       "metadata": {},
       "removedWidgets": [],
       "type": "html"
      }
     },
     "output_type": "display_data"
    }
   ],
   "source": [
    "# create vector assembler and scalers\n",
    "va = VectorAssembler(outputCol=\"va_features\", inputCols=[\"Black Elo\", \"White Elo\",\"elo_diff\", \"Time Class\", \"Time Control\"])\n",
    "scaler = StandardScaler(inputCol = \"va_features\", outputCol=\"features\")\n",
    "\n",
    "# create train/validation sets\n",
    "splits = df_eval.randomSplit([0.8, 0.2])\n",
    "train = splits[0].cache()\n",
    "validation = splits[1].cache()\n",
    "\n",
    "# get the transformed datasets from the va\n",
    "train_transformed = va.transform(train).select(\"va_features\", \"result_int\").withColumnRenamed(\"result_int\", \"label\")\n",
    "val_transformed = va.transform(validation).select(\"va_features\", \"result_int\").withColumnRenamed(\"result_int\", \"label\")\n",
    "\n",
    "# make the SVM model\n",
    "svm = LinearSVC(maxIter=100, regParam=0.1)\n",
    "\n",
    "# make the scaled model\n",
    "scaler_model = scaler.fit(train_transformed)\n",
    "\n",
    "# scale the data\n",
    "scaled_data = scaler_model.transform(train_transformed)\n",
    "scaled_val = scaler_model.transform(val_transformed)\n",
    "\n",
    "# fit the data\n",
    "model = svm.fit(scaled_data)\n",
    "predictions = model.transform(scaled_val)\n",
    "\n",
    "# calculate accuracy\n",
    "evaluator = MulticlassClassificationEvaluator().setMetricName('accuracy')\n",
    "accuracy = evaluator.evaluate(predictions)\n",
    "print(\"Accuracy:\", accuracy)\n",
    "\n",
    "# calculate PR\n",
    "evaluator = BinaryClassificationEvaluator().setMetricName('areaUnderPR')\n",
    "areaunderPR = evaluator.evaluate(predictions)\n",
    "print(\"Area under PR:\", areaunderPR)\n",
    "\n",
    "# calculate ROC\n",
    "evaluator = BinaryClassificationEvaluator().setMetricName('areaUnderROC')\n",
    "areaunderROC = evaluator.evaluate(predictions)\n",
    "print(\"Area under ROC:\", areaunderROC)"
   ]
  },
  {
   "cell_type": "markdown",
   "metadata": {},
   "source": [
    "## Metrics from using only \"Black Elo\" and \"White Elo\""
   ]
  },
  {
   "cell_type": "code",
   "execution_count": null,
   "metadata": {
    "application/vnd.databricks.v1+cell": {
     "cellMetadata": {
      "byteLimit": 2048000,
      "rowLimit": 10000
     },
     "inputWidgets": {},
     "nuid": "eec40f03-83c0-462a-8947-2c8a01860c34",
     "showTitle": false,
     "title": ""
    }
   },
   "outputs": [
    {
     "data": {
      "text/html": [
       "<style scoped>\n",
       "  .ansiout {\n",
       "    display: block;\n",
       "    unicode-bidi: embed;\n",
       "    white-space: pre-wrap;\n",
       "    word-wrap: break-word;\n",
       "    word-break: break-all;\n",
       "    font-family: \"Source Code Pro\", \"Menlo\", monospace;;\n",
       "    font-size: 13px;\n",
       "    color: #555;\n",
       "    margin-left: 4px;\n",
       "    line-height: 19px;\n",
       "  }\n",
       "</style>\n",
       "<div class=\"ansiout\">Accuracy: 0.5600425079702445\n",
       "Area under PR: 0.7685557934676583\n",
       "Area under ROC: 0.7294635124663839\n",
       "</div>"
      ]
     },
     "metadata": {
      "application/vnd.databricks.v1+output": {
       "addedWidgets": {},
       "arguments": {},
       "data": "<div class=\"ansiout\">Accuracy: 0.5600425079702445\nArea under PR: 0.7685557934676583\nArea under ROC: 0.7294635124663839\n</div>",
       "datasetInfos": [
        {
         "name": "train",
         "schema": {
          "fields": [
           {
            "metadata": {},
            "name": "Black Elo",
            "nullable": true,
            "type": "integer"
           },
           {
            "metadata": {},
            "name": "White Elo",
            "nullable": true,
            "type": "integer"
           },
           {
            "metadata": {},
            "name": "Result",
            "nullable": true,
            "type": "string"
           },
           {
            "metadata": {},
            "name": "elo_diff",
            "nullable": true,
            "type": "double"
           },
           {
            "metadata": {},
            "name": "expected_score_fide",
            "nullable": true,
            "type": "float"
           },
           {
            "metadata": {
             "ml_attr": {
              "attrs": {
               "binary": [
                {
                 "idx": 0,
                 "name": "blitz"
                },
                {
                 "idx": 1,
                 "name": "bullet"
                },
                {
                 "idx": 2,
                 "name": "rapid"
                },
                {
                 "idx": 3,
                 "name": "daily"
                },
                {
                 "idx": 4,
                 "name": "__unknown"
                }
               ]
              },
              "num_attrs": 5
             }
            },
            "name": "Time Class",
            "nullable": true,
            "type": {
             "class": "org.apache.spark.ml.linalg.VectorUDT",
             "pyClass": "pyspark.ml.linalg.VectorUDT",
             "sqlType": {
              "fields": [
               {
                "metadata": {},
                "name": "type",
                "nullable": false,
                "type": "byte"
               },
               {
                "metadata": {},
                "name": "size",
                "nullable": true,
                "type": "integer"
               },
               {
                "metadata": {},
                "name": "indices",
                "nullable": true,
                "type": {
                 "containsNull": false,
                 "elementType": "integer",
                 "type": "array"
                }
               },
               {
                "metadata": {},
                "name": "values",
                "nullable": true,
                "type": {
                 "containsNull": false,
                 "elementType": "double",
                 "type": "array"
                }
               }
              ],
              "type": "struct"
             },
             "type": "udt"
            }
           },
           {
            "metadata": {
             "ml_attr": {
              "attrs": {
               "binary": [
                {
                 "idx": 0,
                 "name": "180"
                },
                {
                 "idx": 1,
                 "name": "60"
                },
                {
                 "idx": 2,
                 "name": "180+1"
                },
                {
                 "idx": 3,
                 "name": "30"
                },
                {
                 "idx": 4,
                 "name": "600+2"
                },
                {
                 "idx": 5,
                 "name": "300"
                },
                {
                 "idx": 6,
                 "name": "600"
                },
                {
                 "idx": 7,
                 "name": "900+3"
                },
                {
                 "idx": 8,
                 "name": "180+2"
                },
                {
                 "idx": 9,
                 "name": "60+1"
                },
                {
                 "idx": 10,
                 "name": "900"
                },
                {
                 "idx": 11,
                 "name": "1/259200"
                },
                {
                 "idx": 12,
                 "name": "300+2"
                },
                {
                 "idx": 13,
                 "name": "10"
                },
                {
                 "idx": 14,
                 "name": "1/1209600"
                },
                {
                 "idx": 15,
                 "name": "1/172800"
                },
                {
                 "idx": 16,
                 "name": "1/86400"
                },
                {
                 "idx": 17,
                 "name": "600+5"
                },
                {
                 "idx": 18,
                 "name": "900+10"
                },
                {
                 "idx": 19,
                 "name": "900+5"
                },
                {
                 "idx": 20,
                 "name": "1/604800"
                },
                {
                 "idx": 21,
                 "name": "10+4"
                },
                {
                 "idx": 22,
                 "name": "120+1"
                },
                {
                 "idx": 23,
                 "name": "1800+5"
                },
                {
                 "idx": 24,
                 "name": "1805"
                },
                {
                 "idx": 25,
                 "name": "20+1"
                },
                {
                 "idx": 26,
                 "name": "__unknown"
                }
               ]
              },
              "num_attrs": 27
             }
            },
            "name": "Time Control",
            "nullable": true,
            "type": {
             "class": "org.apache.spark.ml.linalg.VectorUDT",
             "pyClass": "pyspark.ml.linalg.VectorUDT",
             "sqlType": {
              "fields": [
               {
                "metadata": {},
                "name": "type",
                "nullable": false,
                "type": "byte"
               },
               {
                "metadata": {},
                "name": "size",
                "nullable": true,
                "type": "integer"
               },
               {
                "metadata": {},
                "name": "indices",
                "nullable": true,
                "type": {
                 "containsNull": false,
                 "elementType": "integer",
                 "type": "array"
                }
               },
               {
                "metadata": {},
                "name": "values",
                "nullable": true,
                "type": {
                 "containsNull": false,
                 "elementType": "double",
                 "type": "array"
                }
               }
              ],
              "type": "struct"
             },
             "type": "udt"
            }
           },
           {
            "metadata": {},
            "name": "result_int",
            "nullable": true,
            "type": "integer"
           }
          ],
          "type": "struct"
         },
         "tableIdentifier": null,
         "typeStr": "pyspark.sql.dataframe.DataFrame"
        },
        {
         "name": "validation",
         "schema": {
          "fields": [
           {
            "metadata": {},
            "name": "Black Elo",
            "nullable": true,
            "type": "integer"
           },
           {
            "metadata": {},
            "name": "White Elo",
            "nullable": true,
            "type": "integer"
           },
           {
            "metadata": {},
            "name": "Result",
            "nullable": true,
            "type": "string"
           },
           {
            "metadata": {},
            "name": "elo_diff",
            "nullable": true,
            "type": "double"
           },
           {
            "metadata": {},
            "name": "expected_score_fide",
            "nullable": true,
            "type": "float"
           },
           {
            "metadata": {
             "ml_attr": {
              "attrs": {
               "binary": [
                {
                 "idx": 0,
                 "name": "blitz"
                },
                {
                 "idx": 1,
                 "name": "bullet"
                },
                {
                 "idx": 2,
                 "name": "rapid"
                },
                {
                 "idx": 3,
                 "name": "daily"
                },
                {
                 "idx": 4,
                 "name": "__unknown"
                }
               ]
              },
              "num_attrs": 5
             }
            },
            "name": "Time Class",
            "nullable": true,
            "type": {
             "class": "org.apache.spark.ml.linalg.VectorUDT",
             "pyClass": "pyspark.ml.linalg.VectorUDT",
             "sqlType": {
              "fields": [
               {
                "metadata": {},
                "name": "type",
                "nullable": false,
                "type": "byte"
               },
               {
                "metadata": {},
                "name": "size",
                "nullable": true,
                "type": "integer"
               },
               {
                "metadata": {},
                "name": "indices",
                "nullable": true,
                "type": {
                 "containsNull": false,
                 "elementType": "integer",
                 "type": "array"
                }
               },
               {
                "metadata": {},
                "name": "values",
                "nullable": true,
                "type": {
                 "containsNull": false,
                 "elementType": "double",
                 "type": "array"
                }
               }
              ],
              "type": "struct"
             },
             "type": "udt"
            }
           },
           {
            "metadata": {
             "ml_attr": {
              "attrs": {
               "binary": [
                {
                 "idx": 0,
                 "name": "180"
                },
                {
                 "idx": 1,
                 "name": "60"
                },
                {
                 "idx": 2,
                 "name": "180+1"
                },
                {
                 "idx": 3,
                 "name": "30"
                },
                {
                 "idx": 4,
                 "name": "600+2"
                },
                {
                 "idx": 5,
                 "name": "300"
                },
                {
                 "idx": 6,
                 "name": "600"
                },
                {
                 "idx": 7,
                 "name": "900+3"
                },
                {
                 "idx": 8,
                 "name": "180+2"
                },
                {
                 "idx": 9,
                 "name": "60+1"
                },
                {
                 "idx": 10,
                 "name": "900"
                },
                {
                 "idx": 11,
                 "name": "1/259200"
                },
                {
                 "idx": 12,
                 "name": "300+2"
                },
                {
                 "idx": 13,
                 "name": "10"
                },
                {
                 "idx": 14,
                 "name": "1/1209600"
                },
                {
                 "idx": 15,
                 "name": "1/172800"
                },
                {
                 "idx": 16,
                 "name": "1/86400"
                },
                {
                 "idx": 17,
                 "name": "600+5"
                },
                {
                 "idx": 18,
                 "name": "900+10"
                },
                {
                 "idx": 19,
                 "name": "900+5"
                },
                {
                 "idx": 20,
                 "name": "1/604800"
                },
                {
                 "idx": 21,
                 "name": "10+4"
                },
                {
                 "idx": 22,
                 "name": "120+1"
                },
                {
                 "idx": 23,
                 "name": "1800+5"
                },
                {
                 "idx": 24,
                 "name": "1805"
                },
                {
                 "idx": 25,
                 "name": "20+1"
                },
                {
                 "idx": 26,
                 "name": "__unknown"
                }
               ]
              },
              "num_attrs": 27
             }
            },
            "name": "Time Control",
            "nullable": true,
            "type": {
             "class": "org.apache.spark.ml.linalg.VectorUDT",
             "pyClass": "pyspark.ml.linalg.VectorUDT",
             "sqlType": {
              "fields": [
               {
                "metadata": {},
                "name": "type",
                "nullable": false,
                "type": "byte"
               },
               {
                "metadata": {},
                "name": "size",
                "nullable": true,
                "type": "integer"
               },
               {
                "metadata": {},
                "name": "indices",
                "nullable": true,
                "type": {
                 "containsNull": false,
                 "elementType": "integer",
                 "type": "array"
                }
               },
               {
                "metadata": {},
                "name": "values",
                "nullable": true,
                "type": {
                 "containsNull": false,
                 "elementType": "double",
                 "type": "array"
                }
               }
              ],
              "type": "struct"
             },
             "type": "udt"
            }
           },
           {
            "metadata": {},
            "name": "result_int",
            "nullable": true,
            "type": "integer"
           }
          ],
          "type": "struct"
         },
         "tableIdentifier": null,
         "typeStr": "pyspark.sql.dataframe.DataFrame"
        },
        {
         "name": "train_transformed",
         "schema": {
          "fields": [
           {
            "metadata": {
             "ml_attr": {
              "attrs": {
               "numeric": [
                {
                 "idx": 0,
                 "name": "Black Elo"
                },
                {
                 "idx": 1,
                 "name": "White Elo"
                }
               ]
              },
              "num_attrs": 2
             }
            },
            "name": "va_features",
            "nullable": true,
            "type": {
             "class": "org.apache.spark.ml.linalg.VectorUDT",
             "pyClass": "pyspark.ml.linalg.VectorUDT",
             "sqlType": {
              "fields": [
               {
                "metadata": {},
                "name": "type",
                "nullable": false,
                "type": "byte"
               },
               {
                "metadata": {},
                "name": "size",
                "nullable": true,
                "type": "integer"
               },
               {
                "metadata": {},
                "name": "indices",
                "nullable": true,
                "type": {
                 "containsNull": false,
                 "elementType": "integer",
                 "type": "array"
                }
               },
               {
                "metadata": {},
                "name": "values",
                "nullable": true,
                "type": {
                 "containsNull": false,
                 "elementType": "double",
                 "type": "array"
                }
               }
              ],
              "type": "struct"
             },
             "type": "udt"
            }
           },
           {
            "metadata": {},
            "name": "label",
            "nullable": true,
            "type": "integer"
           }
          ],
          "type": "struct"
         },
         "tableIdentifier": null,
         "typeStr": "pyspark.sql.dataframe.DataFrame"
        },
        {
         "name": "val_transformed",
         "schema": {
          "fields": [
           {
            "metadata": {
             "ml_attr": {
              "attrs": {
               "numeric": [
                {
                 "idx": 0,
                 "name": "Black Elo"
                },
                {
                 "idx": 1,
                 "name": "White Elo"
                }
               ]
              },
              "num_attrs": 2
             }
            },
            "name": "va_features",
            "nullable": true,
            "type": {
             "class": "org.apache.spark.ml.linalg.VectorUDT",
             "pyClass": "pyspark.ml.linalg.VectorUDT",
             "sqlType": {
              "fields": [
               {
                "metadata": {},
                "name": "type",
                "nullable": false,
                "type": "byte"
               },
               {
                "metadata": {},
                "name": "size",
                "nullable": true,
                "type": "integer"
               },
               {
                "metadata": {},
                "name": "indices",
                "nullable": true,
                "type": {
                 "containsNull": false,
                 "elementType": "integer",
                 "type": "array"
                }
               },
               {
                "metadata": {},
                "name": "values",
                "nullable": true,
                "type": {
                 "containsNull": false,
                 "elementType": "double",
                 "type": "array"
                }
               }
              ],
              "type": "struct"
             },
             "type": "udt"
            }
           },
           {
            "metadata": {},
            "name": "label",
            "nullable": true,
            "type": "integer"
           }
          ],
          "type": "struct"
         },
         "tableIdentifier": null,
         "typeStr": "pyspark.sql.dataframe.DataFrame"
        },
        {
         "name": "scaled_data",
         "schema": {
          "fields": [
           {
            "metadata": {
             "ml_attr": {
              "attrs": {
               "numeric": [
                {
                 "idx": 0,
                 "name": "Black Elo"
                },
                {
                 "idx": 1,
                 "name": "White Elo"
                }
               ]
              },
              "num_attrs": 2
             }
            },
            "name": "va_features",
            "nullable": true,
            "type": {
             "class": "org.apache.spark.ml.linalg.VectorUDT",
             "pyClass": "pyspark.ml.linalg.VectorUDT",
             "sqlType": {
              "fields": [
               {
                "metadata": {},
                "name": "type",
                "nullable": false,
                "type": "byte"
               },
               {
                "metadata": {},
                "name": "size",
                "nullable": true,
                "type": "integer"
               },
               {
                "metadata": {},
                "name": "indices",
                "nullable": true,
                "type": {
                 "containsNull": false,
                 "elementType": "integer",
                 "type": "array"
                }
               },
               {
                "metadata": {},
                "name": "values",
                "nullable": true,
                "type": {
                 "containsNull": false,
                 "elementType": "double",
                 "type": "array"
                }
               }
              ],
              "type": "struct"
             },
             "type": "udt"
            }
           },
           {
            "metadata": {},
            "name": "label",
            "nullable": true,
            "type": "integer"
           },
           {
            "metadata": {
             "ml_attr": {
              "num_attrs": 2
             }
            },
            "name": "features",
            "nullable": true,
            "type": {
             "class": "org.apache.spark.ml.linalg.VectorUDT",
             "pyClass": "pyspark.ml.linalg.VectorUDT",
             "sqlType": {
              "fields": [
               {
                "metadata": {},
                "name": "type",
                "nullable": false,
                "type": "byte"
               },
               {
                "metadata": {},
                "name": "size",
                "nullable": true,
                "type": "integer"
               },
               {
                "metadata": {},
                "name": "indices",
                "nullable": true,
                "type": {
                 "containsNull": false,
                 "elementType": "integer",
                 "type": "array"
                }
               },
               {
                "metadata": {},
                "name": "values",
                "nullable": true,
                "type": {
                 "containsNull": false,
                 "elementType": "double",
                 "type": "array"
                }
               }
              ],
              "type": "struct"
             },
             "type": "udt"
            }
           }
          ],
          "type": "struct"
         },
         "tableIdentifier": null,
         "typeStr": "pyspark.sql.dataframe.DataFrame"
        },
        {
         "name": "scaled_val",
         "schema": {
          "fields": [
           {
            "metadata": {
             "ml_attr": {
              "attrs": {
               "numeric": [
                {
                 "idx": 0,
                 "name": "Black Elo"
                },
                {
                 "idx": 1,
                 "name": "White Elo"
                }
               ]
              },
              "num_attrs": 2
             }
            },
            "name": "va_features",
            "nullable": true,
            "type": {
             "class": "org.apache.spark.ml.linalg.VectorUDT",
             "pyClass": "pyspark.ml.linalg.VectorUDT",
             "sqlType": {
              "fields": [
               {
                "metadata": {},
                "name": "type",
                "nullable": false,
                "type": "byte"
               },
               {
                "metadata": {},
                "name": "size",
                "nullable": true,
                "type": "integer"
               },
               {
                "metadata": {},
                "name": "indices",
                "nullable": true,
                "type": {
                 "containsNull": false,
                 "elementType": "integer",
                 "type": "array"
                }
               },
               {
                "metadata": {},
                "name": "values",
                "nullable": true,
                "type": {
                 "containsNull": false,
                 "elementType": "double",
                 "type": "array"
                }
               }
              ],
              "type": "struct"
             },
             "type": "udt"
            }
           },
           {
            "metadata": {},
            "name": "label",
            "nullable": true,
            "type": "integer"
           },
           {
            "metadata": {
             "ml_attr": {
              "num_attrs": 2
             }
            },
            "name": "features",
            "nullable": true,
            "type": {
             "class": "org.apache.spark.ml.linalg.VectorUDT",
             "pyClass": "pyspark.ml.linalg.VectorUDT",
             "sqlType": {
              "fields": [
               {
                "metadata": {},
                "name": "type",
                "nullable": false,
                "type": "byte"
               },
               {
                "metadata": {},
                "name": "size",
                "nullable": true,
                "type": "integer"
               },
               {
                "metadata": {},
                "name": "indices",
                "nullable": true,
                "type": {
                 "containsNull": false,
                 "elementType": "integer",
                 "type": "array"
                }
               },
               {
                "metadata": {},
                "name": "values",
                "nullable": true,
                "type": {
                 "containsNull": false,
                 "elementType": "double",
                 "type": "array"
                }
               }
              ],
              "type": "struct"
             },
             "type": "udt"
            }
           }
          ],
          "type": "struct"
         },
         "tableIdentifier": null,
         "typeStr": "pyspark.sql.dataframe.DataFrame"
        },
        {
         "name": "predictions",
         "schema": {
          "fields": [
           {
            "metadata": {
             "ml_attr": {
              "attrs": {
               "numeric": [
                {
                 "idx": 0,
                 "name": "Black Elo"
                },
                {
                 "idx": 1,
                 "name": "White Elo"
                }
               ]
              },
              "num_attrs": 2
             }
            },
            "name": "va_features",
            "nullable": true,
            "type": {
             "class": "org.apache.spark.ml.linalg.VectorUDT",
             "pyClass": "pyspark.ml.linalg.VectorUDT",
             "sqlType": {
              "fields": [
               {
                "metadata": {},
                "name": "type",
                "nullable": false,
                "type": "byte"
               },
               {
                "metadata": {},
                "name": "size",
                "nullable": true,
                "type": "integer"
               },
               {
                "metadata": {},
                "name": "indices",
                "nullable": true,
                "type": {
                 "containsNull": false,
                 "elementType": "integer",
                 "type": "array"
                }
               },
               {
                "metadata": {},
                "name": "values",
                "nullable": true,
                "type": {
                 "containsNull": false,
                 "elementType": "double",
                 "type": "array"
                }
               }
              ],
              "type": "struct"
             },
             "type": "udt"
            }
           },
           {
            "metadata": {},
            "name": "label",
            "nullable": true,
            "type": "integer"
           },
           {
            "metadata": {
             "ml_attr": {
              "num_attrs": 2
             }
            },
            "name": "features",
            "nullable": true,
            "type": {
             "class": "org.apache.spark.ml.linalg.VectorUDT",
             "pyClass": "pyspark.ml.linalg.VectorUDT",
             "sqlType": {
              "fields": [
               {
                "metadata": {},
                "name": "type",
                "nullable": false,
                "type": "byte"
               },
               {
                "metadata": {},
                "name": "size",
                "nullable": true,
                "type": "integer"
               },
               {
                "metadata": {},
                "name": "indices",
                "nullable": true,
                "type": {
                 "containsNull": false,
                 "elementType": "integer",
                 "type": "array"
                }
               },
               {
                "metadata": {},
                "name": "values",
                "nullable": true,
                "type": {
                 "containsNull": false,
                 "elementType": "double",
                 "type": "array"
                }
               }
              ],
              "type": "struct"
             },
             "type": "udt"
            }
           },
           {
            "metadata": {
             "ml_attr": {
              "num_attrs": 2
             }
            },
            "name": "rawPrediction",
            "nullable": true,
            "type": {
             "class": "org.apache.spark.ml.linalg.VectorUDT",
             "pyClass": "pyspark.ml.linalg.VectorUDT",
             "sqlType": {
              "fields": [
               {
                "metadata": {},
                "name": "type",
                "nullable": false,
                "type": "byte"
               },
               {
                "metadata": {},
                "name": "size",
                "nullable": true,
                "type": "integer"
               },
               {
                "metadata": {},
                "name": "indices",
                "nullable": true,
                "type": {
                 "containsNull": false,
                 "elementType": "integer",
                 "type": "array"
                }
               },
               {
                "metadata": {},
                "name": "values",
                "nullable": true,
                "type": {
                 "containsNull": false,
                 "elementType": "double",
                 "type": "array"
                }
               }
              ],
              "type": "struct"
             },
             "type": "udt"
            }
           },
           {
            "metadata": {
             "ml_attr": {
              "num_vals": 2,
              "type": "nominal"
             }
            },
            "name": "prediction",
            "nullable": false,
            "type": "double"
           }
          ],
          "type": "struct"
         },
         "tableIdentifier": null,
         "typeStr": "pyspark.sql.dataframe.DataFrame"
        }
       ],
       "metadata": {},
       "removedWidgets": [],
       "type": "html"
      }
     },
     "output_type": "display_data"
    }
   ],
   "source": [
    "# create vector assembler and scalers\n",
    "va = VectorAssembler(outputCol=\"va_features\", inputCols=[\"Black Elo\", \"White Elo\"])\n",
    "scaler = StandardScaler(inputCol = \"va_features\", outputCol=\"features\")\n",
    "\n",
    "# create train/validation sets\n",
    "splits = df_eval.randomSplit([0.8, 0.2])\n",
    "train = splits[0].cache()\n",
    "validation = splits[1].cache()\n",
    "\n",
    "# get the transformed datasets from the va\n",
    "train_transformed = va.transform(train).select(\"va_features\", \"result_int\").withColumnRenamed(\"result_int\", \"label\")\n",
    "val_transformed = va.transform(validation).select(\"va_features\", \"result_int\").withColumnRenamed(\"result_int\", \"label\")\n",
    "\n",
    "# make the SVM model\n",
    "svm = LinearSVC(maxIter=100, regParam=0.1)\n",
    "\n",
    "# make the scaled model\n",
    "scaler_model = scaler.fit(train_transformed)\n",
    "\n",
    "# scale the data\n",
    "scaled_data = scaler_model.transform(train_transformed)\n",
    "scaled_val = scaler_model.transform(val_transformed)\n",
    "\n",
    "# fit the data\n",
    "model = svm.fit(scaled_data)\n",
    "predictions = model.transform(scaled_val)\n",
    "\n",
    "# calculate accuracy\n",
    "evaluator = MulticlassClassificationEvaluator().setMetricName('accuracy')\n",
    "accuracy = evaluator.evaluate(predictions)\n",
    "print(\"Accuracy:\", accuracy)\n",
    "\n",
    "# calculate PR\n",
    "evaluator = BinaryClassificationEvaluator().setMetricName('areaUnderPR')\n",
    "areaunderPR = evaluator.evaluate(predictions)\n",
    "print(\"Area under PR:\", areaunderPR)\n",
    "\n",
    "# calculate ROC\n",
    "evaluator = BinaryClassificationEvaluator().setMetricName('areaUnderROC')\n",
    "areaunderROC = evaluator.evaluate(predictions)\n",
    "print(\"Area under ROC:\", areaunderROC)"
   ]
  },
  {
   "cell_type": "markdown",
   "metadata": {},
   "source": [
    "## Metrics from using only \"elo_diff\""
   ]
  },
  {
   "cell_type": "code",
   "execution_count": null,
   "metadata": {
    "application/vnd.databricks.v1+cell": {
     "cellMetadata": {
      "byteLimit": 2048000,
      "rowLimit": 10000
     },
     "inputWidgets": {},
     "nuid": "0930bc94-c0f4-4cbe-9ef1-c0bbfd69e01a",
     "showTitle": false,
     "title": ""
    }
   },
   "outputs": [
    {
     "data": {
      "text/html": [
       "<style scoped>\n",
       "  .ansiout {\n",
       "    display: block;\n",
       "    unicode-bidi: embed;\n",
       "    white-space: pre-wrap;\n",
       "    word-wrap: break-word;\n",
       "    word-break: break-all;\n",
       "    font-family: \"Source Code Pro\", \"Menlo\", monospace;;\n",
       "    font-size: 13px;\n",
       "    color: #555;\n",
       "    margin-left: 4px;\n",
       "    line-height: 19px;\n",
       "  }\n",
       "</style>\n",
       "<div class=\"ansiout\">Accuracy: 0.6354166666666666\n",
       "Area under PR: 0.7618902048697781\n",
       "Area under ROC: 0.7552659368739437\n",
       "</div>"
      ]
     },
     "metadata": {
      "application/vnd.databricks.v1+output": {
       "addedWidgets": {},
       "arguments": {},
       "data": "<div class=\"ansiout\">Accuracy: 0.6354166666666666\nArea under PR: 0.7618902048697781\nArea under ROC: 0.7552659368739437\n</div>",
       "datasetInfos": [
        {
         "name": "train",
         "schema": {
          "fields": [
           {
            "metadata": {},
            "name": "Black Elo",
            "nullable": true,
            "type": "integer"
           },
           {
            "metadata": {},
            "name": "White Elo",
            "nullable": true,
            "type": "integer"
           },
           {
            "metadata": {},
            "name": "Result",
            "nullable": true,
            "type": "string"
           },
           {
            "metadata": {},
            "name": "elo_diff",
            "nullable": true,
            "type": "double"
           },
           {
            "metadata": {},
            "name": "expected_score_fide",
            "nullable": true,
            "type": "float"
           },
           {
            "metadata": {
             "ml_attr": {
              "attrs": {
               "binary": [
                {
                 "idx": 0,
                 "name": "blitz"
                },
                {
                 "idx": 1,
                 "name": "bullet"
                },
                {
                 "idx": 2,
                 "name": "rapid"
                },
                {
                 "idx": 3,
                 "name": "daily"
                },
                {
                 "idx": 4,
                 "name": "__unknown"
                }
               ]
              },
              "num_attrs": 5
             }
            },
            "name": "Time Class",
            "nullable": true,
            "type": {
             "class": "org.apache.spark.ml.linalg.VectorUDT",
             "pyClass": "pyspark.ml.linalg.VectorUDT",
             "sqlType": {
              "fields": [
               {
                "metadata": {},
                "name": "type",
                "nullable": false,
                "type": "byte"
               },
               {
                "metadata": {},
                "name": "size",
                "nullable": true,
                "type": "integer"
               },
               {
                "metadata": {},
                "name": "indices",
                "nullable": true,
                "type": {
                 "containsNull": false,
                 "elementType": "integer",
                 "type": "array"
                }
               },
               {
                "metadata": {},
                "name": "values",
                "nullable": true,
                "type": {
                 "containsNull": false,
                 "elementType": "double",
                 "type": "array"
                }
               }
              ],
              "type": "struct"
             },
             "type": "udt"
            }
           },
           {
            "metadata": {
             "ml_attr": {
              "attrs": {
               "binary": [
                {
                 "idx": 0,
                 "name": "180"
                },
                {
                 "idx": 1,
                 "name": "60"
                },
                {
                 "idx": 2,
                 "name": "180+1"
                },
                {
                 "idx": 3,
                 "name": "30"
                },
                {
                 "idx": 4,
                 "name": "600+2"
                },
                {
                 "idx": 5,
                 "name": "300"
                },
                {
                 "idx": 6,
                 "name": "600"
                },
                {
                 "idx": 7,
                 "name": "900+3"
                },
                {
                 "idx": 8,
                 "name": "180+2"
                },
                {
                 "idx": 9,
                 "name": "60+1"
                },
                {
                 "idx": 10,
                 "name": "900"
                },
                {
                 "idx": 11,
                 "name": "1/259200"
                },
                {
                 "idx": 12,
                 "name": "300+2"
                },
                {
                 "idx": 13,
                 "name": "10"
                },
                {
                 "idx": 14,
                 "name": "1/1209600"
                },
                {
                 "idx": 15,
                 "name": "1/172800"
                },
                {
                 "idx": 16,
                 "name": "1/86400"
                },
                {
                 "idx": 17,
                 "name": "600+5"
                },
                {
                 "idx": 18,
                 "name": "900+10"
                },
                {
                 "idx": 19,
                 "name": "900+5"
                },
                {
                 "idx": 20,
                 "name": "1/604800"
                },
                {
                 "idx": 21,
                 "name": "10+4"
                },
                {
                 "idx": 22,
                 "name": "120+1"
                },
                {
                 "idx": 23,
                 "name": "1800+5"
                },
                {
                 "idx": 24,
                 "name": "1805"
                },
                {
                 "idx": 25,
                 "name": "20+1"
                },
                {
                 "idx": 26,
                 "name": "__unknown"
                }
               ]
              },
              "num_attrs": 27
             }
            },
            "name": "Time Control",
            "nullable": true,
            "type": {
             "class": "org.apache.spark.ml.linalg.VectorUDT",
             "pyClass": "pyspark.ml.linalg.VectorUDT",
             "sqlType": {
              "fields": [
               {
                "metadata": {},
                "name": "type",
                "nullable": false,
                "type": "byte"
               },
               {
                "metadata": {},
                "name": "size",
                "nullable": true,
                "type": "integer"
               },
               {
                "metadata": {},
                "name": "indices",
                "nullable": true,
                "type": {
                 "containsNull": false,
                 "elementType": "integer",
                 "type": "array"
                }
               },
               {
                "metadata": {},
                "name": "values",
                "nullable": true,
                "type": {
                 "containsNull": false,
                 "elementType": "double",
                 "type": "array"
                }
               }
              ],
              "type": "struct"
             },
             "type": "udt"
            }
           },
           {
            "metadata": {},
            "name": "result_int",
            "nullable": true,
            "type": "integer"
           }
          ],
          "type": "struct"
         },
         "tableIdentifier": null,
         "typeStr": "pyspark.sql.dataframe.DataFrame"
        },
        {
         "name": "validation",
         "schema": {
          "fields": [
           {
            "metadata": {},
            "name": "Black Elo",
            "nullable": true,
            "type": "integer"
           },
           {
            "metadata": {},
            "name": "White Elo",
            "nullable": true,
            "type": "integer"
           },
           {
            "metadata": {},
            "name": "Result",
            "nullable": true,
            "type": "string"
           },
           {
            "metadata": {},
            "name": "elo_diff",
            "nullable": true,
            "type": "double"
           },
           {
            "metadata": {},
            "name": "expected_score_fide",
            "nullable": true,
            "type": "float"
           },
           {
            "metadata": {
             "ml_attr": {
              "attrs": {
               "binary": [
                {
                 "idx": 0,
                 "name": "blitz"
                },
                {
                 "idx": 1,
                 "name": "bullet"
                },
                {
                 "idx": 2,
                 "name": "rapid"
                },
                {
                 "idx": 3,
                 "name": "daily"
                },
                {
                 "idx": 4,
                 "name": "__unknown"
                }
               ]
              },
              "num_attrs": 5
             }
            },
            "name": "Time Class",
            "nullable": true,
            "type": {
             "class": "org.apache.spark.ml.linalg.VectorUDT",
             "pyClass": "pyspark.ml.linalg.VectorUDT",
             "sqlType": {
              "fields": [
               {
                "metadata": {},
                "name": "type",
                "nullable": false,
                "type": "byte"
               },
               {
                "metadata": {},
                "name": "size",
                "nullable": true,
                "type": "integer"
               },
               {
                "metadata": {},
                "name": "indices",
                "nullable": true,
                "type": {
                 "containsNull": false,
                 "elementType": "integer",
                 "type": "array"
                }
               },
               {
                "metadata": {},
                "name": "values",
                "nullable": true,
                "type": {
                 "containsNull": false,
                 "elementType": "double",
                 "type": "array"
                }
               }
              ],
              "type": "struct"
             },
             "type": "udt"
            }
           },
           {
            "metadata": {
             "ml_attr": {
              "attrs": {
               "binary": [
                {
                 "idx": 0,
                 "name": "180"
                },
                {
                 "idx": 1,
                 "name": "60"
                },
                {
                 "idx": 2,
                 "name": "180+1"
                },
                {
                 "idx": 3,
                 "name": "30"
                },
                {
                 "idx": 4,
                 "name": "600+2"
                },
                {
                 "idx": 5,
                 "name": "300"
                },
                {
                 "idx": 6,
                 "name": "600"
                },
                {
                 "idx": 7,
                 "name": "900+3"
                },
                {
                 "idx": 8,
                 "name": "180+2"
                },
                {
                 "idx": 9,
                 "name": "60+1"
                },
                {
                 "idx": 10,
                 "name": "900"
                },
                {
                 "idx": 11,
                 "name": "1/259200"
                },
                {
                 "idx": 12,
                 "name": "300+2"
                },
                {
                 "idx": 13,
                 "name": "10"
                },
                {
                 "idx": 14,
                 "name": "1/1209600"
                },
                {
                 "idx": 15,
                 "name": "1/172800"
                },
                {
                 "idx": 16,
                 "name": "1/86400"
                },
                {
                 "idx": 17,
                 "name": "600+5"
                },
                {
                 "idx": 18,
                 "name": "900+10"
                },
                {
                 "idx": 19,
                 "name": "900+5"
                },
                {
                 "idx": 20,
                 "name": "1/604800"
                },
                {
                 "idx": 21,
                 "name": "10+4"
                },
                {
                 "idx": 22,
                 "name": "120+1"
                },
                {
                 "idx": 23,
                 "name": "1800+5"
                },
                {
                 "idx": 24,
                 "name": "1805"
                },
                {
                 "idx": 25,
                 "name": "20+1"
                },
                {
                 "idx": 26,
                 "name": "__unknown"
                }
               ]
              },
              "num_attrs": 27
             }
            },
            "name": "Time Control",
            "nullable": true,
            "type": {
             "class": "org.apache.spark.ml.linalg.VectorUDT",
             "pyClass": "pyspark.ml.linalg.VectorUDT",
             "sqlType": {
              "fields": [
               {
                "metadata": {},
                "name": "type",
                "nullable": false,
                "type": "byte"
               },
               {
                "metadata": {},
                "name": "size",
                "nullable": true,
                "type": "integer"
               },
               {
                "metadata": {},
                "name": "indices",
                "nullable": true,
                "type": {
                 "containsNull": false,
                 "elementType": "integer",
                 "type": "array"
                }
               },
               {
                "metadata": {},
                "name": "values",
                "nullable": true,
                "type": {
                 "containsNull": false,
                 "elementType": "double",
                 "type": "array"
                }
               }
              ],
              "type": "struct"
             },
             "type": "udt"
            }
           },
           {
            "metadata": {},
            "name": "result_int",
            "nullable": true,
            "type": "integer"
           }
          ],
          "type": "struct"
         },
         "tableIdentifier": null,
         "typeStr": "pyspark.sql.dataframe.DataFrame"
        },
        {
         "name": "train_transformed",
         "schema": {
          "fields": [
           {
            "metadata": {
             "ml_attr": {
              "attrs": {
               "numeric": [
                {
                 "idx": 0,
                 "name": "elo_diff"
                }
               ]
              },
              "num_attrs": 1
             }
            },
            "name": "va_features",
            "nullable": true,
            "type": {
             "class": "org.apache.spark.ml.linalg.VectorUDT",
             "pyClass": "pyspark.ml.linalg.VectorUDT",
             "sqlType": {
              "fields": [
               {
                "metadata": {},
                "name": "type",
                "nullable": false,
                "type": "byte"
               },
               {
                "metadata": {},
                "name": "size",
                "nullable": true,
                "type": "integer"
               },
               {
                "metadata": {},
                "name": "indices",
                "nullable": true,
                "type": {
                 "containsNull": false,
                 "elementType": "integer",
                 "type": "array"
                }
               },
               {
                "metadata": {},
                "name": "values",
                "nullable": true,
                "type": {
                 "containsNull": false,
                 "elementType": "double",
                 "type": "array"
                }
               }
              ],
              "type": "struct"
             },
             "type": "udt"
            }
           },
           {
            "metadata": {},
            "name": "label",
            "nullable": true,
            "type": "integer"
           }
          ],
          "type": "struct"
         },
         "tableIdentifier": null,
         "typeStr": "pyspark.sql.dataframe.DataFrame"
        },
        {
         "name": "val_transformed",
         "schema": {
          "fields": [
           {
            "metadata": {
             "ml_attr": {
              "attrs": {
               "numeric": [
                {
                 "idx": 0,
                 "name": "elo_diff"
                }
               ]
              },
              "num_attrs": 1
             }
            },
            "name": "va_features",
            "nullable": true,
            "type": {
             "class": "org.apache.spark.ml.linalg.VectorUDT",
             "pyClass": "pyspark.ml.linalg.VectorUDT",
             "sqlType": {
              "fields": [
               {
                "metadata": {},
                "name": "type",
                "nullable": false,
                "type": "byte"
               },
               {
                "metadata": {},
                "name": "size",
                "nullable": true,
                "type": "integer"
               },
               {
                "metadata": {},
                "name": "indices",
                "nullable": true,
                "type": {
                 "containsNull": false,
                 "elementType": "integer",
                 "type": "array"
                }
               },
               {
                "metadata": {},
                "name": "values",
                "nullable": true,
                "type": {
                 "containsNull": false,
                 "elementType": "double",
                 "type": "array"
                }
               }
              ],
              "type": "struct"
             },
             "type": "udt"
            }
           },
           {
            "metadata": {},
            "name": "label",
            "nullable": true,
            "type": "integer"
           }
          ],
          "type": "struct"
         },
         "tableIdentifier": null,
         "typeStr": "pyspark.sql.dataframe.DataFrame"
        },
        {
         "name": "scaled_data",
         "schema": {
          "fields": [
           {
            "metadata": {
             "ml_attr": {
              "attrs": {
               "numeric": [
                {
                 "idx": 0,
                 "name": "elo_diff"
                }
               ]
              },
              "num_attrs": 1
             }
            },
            "name": "va_features",
            "nullable": true,
            "type": {
             "class": "org.apache.spark.ml.linalg.VectorUDT",
             "pyClass": "pyspark.ml.linalg.VectorUDT",
             "sqlType": {
              "fields": [
               {
                "metadata": {},
                "name": "type",
                "nullable": false,
                "type": "byte"
               },
               {
                "metadata": {},
                "name": "size",
                "nullable": true,
                "type": "integer"
               },
               {
                "metadata": {},
                "name": "indices",
                "nullable": true,
                "type": {
                 "containsNull": false,
                 "elementType": "integer",
                 "type": "array"
                }
               },
               {
                "metadata": {},
                "name": "values",
                "nullable": true,
                "type": {
                 "containsNull": false,
                 "elementType": "double",
                 "type": "array"
                }
               }
              ],
              "type": "struct"
             },
             "type": "udt"
            }
           },
           {
            "metadata": {},
            "name": "label",
            "nullable": true,
            "type": "integer"
           },
           {
            "metadata": {
             "ml_attr": {
              "num_attrs": 1
             }
            },
            "name": "features",
            "nullable": true,
            "type": {
             "class": "org.apache.spark.ml.linalg.VectorUDT",
             "pyClass": "pyspark.ml.linalg.VectorUDT",
             "sqlType": {
              "fields": [
               {
                "metadata": {},
                "name": "type",
                "nullable": false,
                "type": "byte"
               },
               {
                "metadata": {},
                "name": "size",
                "nullable": true,
                "type": "integer"
               },
               {
                "metadata": {},
                "name": "indices",
                "nullable": true,
                "type": {
                 "containsNull": false,
                 "elementType": "integer",
                 "type": "array"
                }
               },
               {
                "metadata": {},
                "name": "values",
                "nullable": true,
                "type": {
                 "containsNull": false,
                 "elementType": "double",
                 "type": "array"
                }
               }
              ],
              "type": "struct"
             },
             "type": "udt"
            }
           }
          ],
          "type": "struct"
         },
         "tableIdentifier": null,
         "typeStr": "pyspark.sql.dataframe.DataFrame"
        },
        {
         "name": "scaled_val",
         "schema": {
          "fields": [
           {
            "metadata": {
             "ml_attr": {
              "attrs": {
               "numeric": [
                {
                 "idx": 0,
                 "name": "elo_diff"
                }
               ]
              },
              "num_attrs": 1
             }
            },
            "name": "va_features",
            "nullable": true,
            "type": {
             "class": "org.apache.spark.ml.linalg.VectorUDT",
             "pyClass": "pyspark.ml.linalg.VectorUDT",
             "sqlType": {
              "fields": [
               {
                "metadata": {},
                "name": "type",
                "nullable": false,
                "type": "byte"
               },
               {
                "metadata": {},
                "name": "size",
                "nullable": true,
                "type": "integer"
               },
               {
                "metadata": {},
                "name": "indices",
                "nullable": true,
                "type": {
                 "containsNull": false,
                 "elementType": "integer",
                 "type": "array"
                }
               },
               {
                "metadata": {},
                "name": "values",
                "nullable": true,
                "type": {
                 "containsNull": false,
                 "elementType": "double",
                 "type": "array"
                }
               }
              ],
              "type": "struct"
             },
             "type": "udt"
            }
           },
           {
            "metadata": {},
            "name": "label",
            "nullable": true,
            "type": "integer"
           },
           {
            "metadata": {
             "ml_attr": {
              "num_attrs": 1
             }
            },
            "name": "features",
            "nullable": true,
            "type": {
             "class": "org.apache.spark.ml.linalg.VectorUDT",
             "pyClass": "pyspark.ml.linalg.VectorUDT",
             "sqlType": {
              "fields": [
               {
                "metadata": {},
                "name": "type",
                "nullable": false,
                "type": "byte"
               },
               {
                "metadata": {},
                "name": "size",
                "nullable": true,
                "type": "integer"
               },
               {
                "metadata": {},
                "name": "indices",
                "nullable": true,
                "type": {
                 "containsNull": false,
                 "elementType": "integer",
                 "type": "array"
                }
               },
               {
                "metadata": {},
                "name": "values",
                "nullable": true,
                "type": {
                 "containsNull": false,
                 "elementType": "double",
                 "type": "array"
                }
               }
              ],
              "type": "struct"
             },
             "type": "udt"
            }
           }
          ],
          "type": "struct"
         },
         "tableIdentifier": null,
         "typeStr": "pyspark.sql.dataframe.DataFrame"
        },
        {
         "name": "predictions",
         "schema": {
          "fields": [
           {
            "metadata": {
             "ml_attr": {
              "attrs": {
               "numeric": [
                {
                 "idx": 0,
                 "name": "elo_diff"
                }
               ]
              },
              "num_attrs": 1
             }
            },
            "name": "va_features",
            "nullable": true,
            "type": {
             "class": "org.apache.spark.ml.linalg.VectorUDT",
             "pyClass": "pyspark.ml.linalg.VectorUDT",
             "sqlType": {
              "fields": [
               {
                "metadata": {},
                "name": "type",
                "nullable": false,
                "type": "byte"
               },
               {
                "metadata": {},
                "name": "size",
                "nullable": true,
                "type": "integer"
               },
               {
                "metadata": {},
                "name": "indices",
                "nullable": true,
                "type": {
                 "containsNull": false,
                 "elementType": "integer",
                 "type": "array"
                }
               },
               {
                "metadata": {},
                "name": "values",
                "nullable": true,
                "type": {
                 "containsNull": false,
                 "elementType": "double",
                 "type": "array"
                }
               }
              ],
              "type": "struct"
             },
             "type": "udt"
            }
           },
           {
            "metadata": {},
            "name": "label",
            "nullable": true,
            "type": "integer"
           },
           {
            "metadata": {
             "ml_attr": {
              "num_attrs": 1
             }
            },
            "name": "features",
            "nullable": true,
            "type": {
             "class": "org.apache.spark.ml.linalg.VectorUDT",
             "pyClass": "pyspark.ml.linalg.VectorUDT",
             "sqlType": {
              "fields": [
               {
                "metadata": {},
                "name": "type",
                "nullable": false,
                "type": "byte"
               },
               {
                "metadata": {},
                "name": "size",
                "nullable": true,
                "type": "integer"
               },
               {
                "metadata": {},
                "name": "indices",
                "nullable": true,
                "type": {
                 "containsNull": false,
                 "elementType": "integer",
                 "type": "array"
                }
               },
               {
                "metadata": {},
                "name": "values",
                "nullable": true,
                "type": {
                 "containsNull": false,
                 "elementType": "double",
                 "type": "array"
                }
               }
              ],
              "type": "struct"
             },
             "type": "udt"
            }
           },
           {
            "metadata": {
             "ml_attr": {
              "num_attrs": 2
             }
            },
            "name": "rawPrediction",
            "nullable": true,
            "type": {
             "class": "org.apache.spark.ml.linalg.VectorUDT",
             "pyClass": "pyspark.ml.linalg.VectorUDT",
             "sqlType": {
              "fields": [
               {
                "metadata": {},
                "name": "type",
                "nullable": false,
                "type": "byte"
               },
               {
                "metadata": {},
                "name": "size",
                "nullable": true,
                "type": "integer"
               },
               {
                "metadata": {},
                "name": "indices",
                "nullable": true,
                "type": {
                 "containsNull": false,
                 "elementType": "integer",
                 "type": "array"
                }
               },
               {
                "metadata": {},
                "name": "values",
                "nullable": true,
                "type": {
                 "containsNull": false,
                 "elementType": "double",
                 "type": "array"
                }
               }
              ],
              "type": "struct"
             },
             "type": "udt"
            }
           },
           {
            "metadata": {
             "ml_attr": {
              "num_vals": 2,
              "type": "nominal"
             }
            },
            "name": "prediction",
            "nullable": false,
            "type": "double"
           }
          ],
          "type": "struct"
         },
         "tableIdentifier": null,
         "typeStr": "pyspark.sql.dataframe.DataFrame"
        }
       ],
       "metadata": {},
       "removedWidgets": [],
       "type": "html"
      }
     },
     "output_type": "display_data"
    }
   ],
   "source": [
    "# create vector assembler and scalers\n",
    "va = VectorAssembler(outputCol=\"va_features\", inputCols=[\"elo_diff\"])\n",
    "scaler = StandardScaler(inputCol = \"va_features\", outputCol=\"features\")\n",
    "\n",
    "# create train/validation sets\n",
    "splits = df_eval.randomSplit([0.8, 0.2])\n",
    "train = splits[0].cache()\n",
    "validation = splits[1].cache()\n",
    "\n",
    "# get the transformed datasets from the va\n",
    "train_transformed = va.transform(train).select(\"va_features\", \"result_int\").withColumnRenamed(\"result_int\", \"label\")\n",
    "val_transformed = va.transform(validation).select(\"va_features\", \"result_int\").withColumnRenamed(\"result_int\", \"label\")\n",
    "\n",
    "# make the SVM model\n",
    "svm = LinearSVC(maxIter=100, regParam=0.1)\n",
    "\n",
    "# make the scaled model\n",
    "scaler_model = scaler.fit(train_transformed)\n",
    "\n",
    "# scale the data\n",
    "scaled_data = scaler_model.transform(train_transformed)\n",
    "scaled_val = scaler_model.transform(val_transformed)\n",
    "\n",
    "# fit the data\n",
    "model = svm.fit(scaled_data)\n",
    "predictions = model.transform(scaled_val)\n",
    "\n",
    "# calculate accuracy\n",
    "evaluator = MulticlassClassificationEvaluator().setMetricName('accuracy')\n",
    "accuracy = evaluator.evaluate(predictions)\n",
    "print(\"Accuracy:\", accuracy)\n",
    "\n",
    "# calculate PR\n",
    "evaluator = BinaryClassificationEvaluator().setMetricName('areaUnderPR')\n",
    "areaunderPR = evaluator.evaluate(predictions)\n",
    "print(\"Area under PR:\", areaunderPR)\n",
    "\n",
    "# calculate ROC\n",
    "evaluator = BinaryClassificationEvaluator().setMetricName('areaUnderROC')\n",
    "areaunderROC = evaluator.evaluate(predictions)\n",
    "print(\"Area under ROC:\", areaunderROC)"
   ]
  },
  {
   "cell_type": "markdown",
   "metadata": {
    "application/vnd.databricks.v1+cell": {
     "cellMetadata": {},
     "inputWidgets": {},
     "nuid": "7b562fe6-94a0-41bb-86c8-87b8b6702a38",
     "showTitle": false,
     "title": ""
    }
   },
   "source": [
    "## Conclusion\n",
    "\n",
    "Using only \"elo_diff\" and using all of the features gives pretty similar metrics. Since simpler models tend to be preferable we should probably use only \"elo_diff\" if we choose the SVM model."
   ]
  },
  {
   "cell_type": "code",
   "execution_count": null,
   "metadata": {},
   "outputs": [],
   "source": []
  }
 ],
 "metadata": {
  "application/vnd.databricks.v1+notebook": {
   "dashboards": [],
   "language": "python",
   "notebookMetadata": {
    "pythonIndentUnit": 4
   },
   "notebookName": "chess_kevin",
   "notebookOrigID": 88578087201508,
   "widgets": {}
  },
  "kernelspec": {
   "display_name": "Python 3 (ipykernel)",
   "language": "python",
   "name": "python3"
  },
  "language_info": {
   "codemirror_mode": {
    "name": "ipython",
    "version": 3
   },
   "file_extension": ".py",
   "mimetype": "text/x-python",
   "name": "python",
   "nbconvert_exporter": "python",
   "pygments_lexer": "ipython3",
   "version": "3.9.7"
  }
 },
 "nbformat": 4,
 "nbformat_minor": 4
}
